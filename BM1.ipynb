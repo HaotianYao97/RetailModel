{
 "cells": [
  {
   "cell_type": "code",
   "execution_count": 36,
   "id": "7db1b1f7-e4db-44e3-b9b3-3a4cb6ea7bbb",
   "metadata": {},
   "outputs": [],
   "source": [
    "import pandas as pd\n",
    "import numpy as np\n",
    "import matplotlib.pyplot as plt\n",
    "import csv\n",
    "import math\n",
    "import plotly.graph_objects as go\n",
    "import plotly.express as px\n",
    "import plotly.io as pio"
   ]
  },
  {
   "cell_type": "markdown",
   "id": "92145a61-4bbd-4723-a2f1-98921be7c659",
   "metadata": {
    "tags": []
   },
   "source": [
    "<!-- ##### Object for individual customer\n",
    "- Calculates net-load of each customer. Inputs: each customer's demand, microgeneration forecasts, initial SOC, battery status (0/1)\n",
    "- Energy management at the household -->"
   ]
  },
  {
   "cell_type": "code",
   "execution_count": null,
   "id": "114b4b4f-0a5b-478c-88fd-290bdbc45d8f",
   "metadata": {},
   "outputs": [],
   "source": [
    "class Customer: # Customer Energy Management\n",
    "    def __init__(self,hh_demand,pvsize,hh_SOC,batt_size, Pr_grid, fit):\n",
    "    # ,Pr_grid,fit):\n",
    "        self.hh_demand=hh_demand\n",
    "        self.hh_gen=Pg.iloc[t].values*pvsize\n",
    "        self.hh_SOC=hh_SOC\n",
    "        self.batt_size=batt_size\n",
    "        self.Pr_fit=fit\n",
    "        self.Pr_grid=Pr_grid\n",
    "        self.E=batt_size\n",
    "        self.Pbmax=batt_size*Crate\n",
    "\n",
    "        self.hh_demand = self.price_responsive_load()\n",
    "\n",
    "        if self.batt_size>0: #battery management\n",
    "            self.battery=self.battery_management()\n",
    "            self.Pgrid=self.battery[0]\n",
    "            self.SOC2=self.battery[1]\n",
    "            self.Pb=self.battery[2]\n",
    "        else: #Energy management in absence of battery\n",
    "            self.Pgrid=(self.hh_demand-self.hh_gen)\n",
    "            self.SOC2=0\n",
    "            self.Pb=0\n",
    "\n",
    "    def price_responsive_load(self):\n",
    "        if self.Pr_grid >= Pr_th_s:\n",
    "            self.hh_demand = 0.5 * self.hh_demand + 0.5 * self.hh_demand * math.exp(-8 * (Pr_th_s - Pr_th_b))\n",
    "        elif self.Pr_grid >= Pr_th_b and self.Pr_grid <= Pr_th_s:\n",
    "            self.hh_demand = 0.5 * self.hh_demand + 0.5 * self.hh_demand * math.exp(-8 * (self.Pr_grid - Pr_th_b))\n",
    "        else:\n",
    "            self.hh_demand = 0.5 * self.hh_demand + 0.5 * self.hh_demand * math.exp(-8 * (Pr_th_b - Pr_th_b))\n",
    "        return self.hh_demand\n",
    "\n",
    "    def battery_management(self):\n",
    "        if self.hh_gen>self.hh_demand:\n",
    "        # if self.Pr_fit>=Pr_th_s: #sell from the battery and the surplus gen \n",
    "            # self.Pbcal=(self.hh_SOC-SOC_min)*(self.E*nd)/dT #battery discharging\n",
    "            # if self.Pbcal>=self.Pbmax:\n",
    "            #     self.Pb=-self.Pbmax\n",
    "            # else:\n",
    "            #     self.Pb=-self.Pbcal\n",
    "        # elif self.Pr_grid>Pr_th_b: #dead band\n",
    "        #     self.Pb=0\n",
    "        # else:\n",
    "            self.Pbcal=(SOC_max-self.hh_SOC)*self.E*nc/dT #battery charging if price < buying threshold\n",
    "            if self.Pbcal>=self.Pbmax:\n",
    "                self.Pb=self.Pbmax\n",
    "            else:\n",
    "                self.Pb=self.Pbcal\n",
    "        else:\n",
    "        # if self.Pr_grid<=Pr_th_b:\n",
    "            # self.Pbcal=(SOC_max-self.hh_SOC)*self.E/(nc*dT) #battery charging\n",
    "        #     if self.Pbcal>=self.Pbmax:\n",
    "        #         self.Pb=self.Pbmax\n",
    "        #     else:\n",
    "        #         self.Pb=self.Pbcal\n",
    "        # elif self.Pr_grid<=Pr_th_s:\n",
    "        #     self.Pb=0\n",
    "        # else:\n",
    "            self.Pbcal=(self.hh_SOC-SOC_min)*(self.E*nd)/dT #discharging\n",
    "            if self.Pbcal>=self.Pbmax:\n",
    "                self.Pb=-self.Pbmax\n",
    "            else:\n",
    "                self.Pb=-self.Pbcal\n",
    "        self.Pgrid=(self.hh_demand-self.hh_gen)+self.Pb\n",
    "        self.SOCend=self.hh_SOC + ((self.Pb*nc)*(dT/self.E) if self.Pb>=0 else (self.Pb/nd)*(dT/self.E))\n",
    "        return self.Pgrid, self.SOCend, self.Pb"
   ]
  },
  {
   "cell_type": "code",
   "execution_count": 38,
   "id": "5d91699a-1181-498d-becf-c822f905b9e8",
   "metadata": {},
   "outputs": [],
   "source": [
    "class CustomerOffgrid:\n",
    "    def __init__(self,hh_demand,pvsize,hh_SOC,batt_size):\n",
    "        self.hh_demand=hh_demand\n",
    "        self.hh_gen=Pg.iloc[t].values*pvsize\n",
    "        self.hh_SOC=hh_SOC\n",
    "        self.batt_size=batt_size\n",
    "        self.E=batt_size\n",
    "        self.Pbmax=batt_size*Crate\n",
    "        self.battery=self.battery_management()\n",
    "        self.Pb=self.battery[0]\n",
    "        self.SOC2=self.battery[1]\n",
    "        self.Pcurtail=self.battery[2]\n",
    "        \n",
    "    def battery_management(self):\n",
    "        if self.hh_gen>self.hh_demand:\n",
    "            self.Pbcal=(SOC_max-self.hh_SOC)*self.E/(nc*dT) #Charging\n",
    "            if self.Pbcal>=self.Pbmax:\n",
    "                self.Pbreq=self.Pbmax\n",
    "            else:\n",
    "                self.Pbreq=self.Pbcal\n",
    "            if (self.hh_gen-self.hh_demand)>=self.Pbreq:\n",
    "                self.Pb=self.Pbreq \n",
    "            else:\n",
    "                self.Pb=(self.hh_gen-self.hh_demand)\n",
    "        else:\n",
    "            self.Pbcal=(self.hh_SOC-SOC_min)*(nd*self.E)/dT\n",
    "            if self.Pbcal>=self.Pbmax:\n",
    "                self.Pbav=self.Pbmax\n",
    "            else:\n",
    "                self.Pbav=self.Pbcal\n",
    "            if (self.hh_demand-self.hh_gen)>=self.Pbav:\n",
    "                self.Pb=-self.Pbav\n",
    "            else:\n",
    "                self.Pb=-(self.hh_demand-self.hh_gen) #discharge is -ve Pb\n",
    "        self.Pcurtail=self.hh_demand-self.hh_gen+self.Pb\n",
    "        if self.batt_size>0:\n",
    "            self.SOCend=self.hh_SOC + ((self.Pb*nc)*(dT/self.E) if self.Pb>=0 else (self.Pb/nd)*(dT/self.E))\n",
    "        else:\n",
    "            self.SOCend=0\n",
    "        return self.Pb, self.SOCend, self.Pcurtail"
   ]
  },
  {
   "cell_type": "code",
   "execution_count": 39,
   "id": "71ff1066-c102-4afe-8c45-b669ac417b1d",
   "metadata": {},
   "outputs": [],
   "source": [
    "class LCOEoff:\n",
    "    def __init__(self,SystemCost):\n",
    "        self.SystemCost=SystemCost\n",
    "        self.lcoeoff=self.calculate_lcoeoff()\n",
    "        \n",
    "    def calculate_lcoeoff(self):\n",
    "        self.lcoeoff=(self.SystemCost + Inv[k-1]*10/15 if k>=1 else 0 + Inv[k-2]*5/15 if k>=2 else 0)/(Pd.iloc[h,:].sum()*15)\n",
    "        return self.lcoeoff"
   ]
  },
  {
   "cell_type": "markdown",
   "id": "dc6901a2-5f5a-4bab-a3b3-fbb5bd66a4ed",
   "metadata": {},
   "source": [
    "##### Object to calculate hourly bill of individual customer"
   ]
  },
  {
   "cell_type": "code",
   "execution_count": 40,
   "id": "201bc364-4deb-4c32-ae6a-ecf33403077e",
   "metadata": {},
   "outputs": [],
   "source": [
    "class Bill:\n",
    "    def __init__(self,demand,R_VC,R_FC,T_C,D_C,M_C,D_FC,h):\n",
    "        self.demand=demand\n",
    "        self.Retailer_VC=R_VC\n",
    "        self.Retailer_FC=R_FC\n",
    "        self.FiT=WS_price\n",
    "        self.T_cost=T_C #transmission costs per kWh\n",
    "        self.D_cost=D_C #distribution costs per kWh\n",
    "        self.M_cost=M_C #municipal costs per kWh\n",
    "        self.dist_fixed_cost_HH=D_FC\n",
    "        self.electricity_charges=self.calculate_electricity_charges()\n",
    "        self.energy_credits=self.calculate_energy_credits()\n",
    "        self.delivery_charges=self.calculate_delivery_charges()\n",
    "        self.electricity_bill=self.calculate_electricity_bill()\n",
    "        \n",
    "\n",
    "    def calculate_electricity_charges(self):\n",
    "        evarcharge=np.sum(np.where(self.demand >= 0, self.demand * self.Retailer_VC, self.demand * 0))\n",
    "        # evarcharge=np.sum(self.demand * self.Retailer_VC)\n",
    "        # evarcharge=np.sum(np.where(self.demand >= 0, self.demand * self.Retailer_VC, 0))\n",
    "        efixedcharge=len(self.demand)*self.Retailer_FC\n",
    "        echarge=evarcharge+efixedcharge\n",
    "        # print('evarcharge',evarcharge)\n",
    "        # print(efixedcharge,'efixedcharge')\n",
    "        return echarge\n",
    "    \n",
    "    def calculate_energy_credits(self):\n",
    "        ecredit=np.sum(np.where(self.demand < 0, -self.demand * 0, 0))\n",
    "        return ecredit\n",
    "    \n",
    "    def calculate_delivery_charges(self):\n",
    "        dcharge1=[dd*(self.T_cost+self.D_cost+self.M_cost+Other_ch) if dd>0 else 0 for dd in self.demand]\n",
    "        dcharge2=len(self.demand)*(self.dist_fixed_cost_HH+rate_riders)\n",
    "        dcharge=(sum(dcharge1)+dcharge2)\n",
    "        # print('dcharge2',dcharge2)\n",
    "        return dcharge\n",
    "    \n",
    "    def calculate_electricity_bill(self):\n",
    "        bill=(self.electricity_charges+self.Retailer_FC+self.delivery_charges)\n",
    "        return bill"
   ]
  },
  {
   "cell_type": "code",
   "execution_count": 41,
   "id": "85a8499d-dbd6-447e-ac06-48c2871bc40b",
   "metadata": {},
   "outputs": [],
   "source": [
    "class Systemsize:\n",
    "    def __init__(self,total_energy_consumption):\n",
    "        self.total_energy_consumption=total_energy_consumption\n",
    "        self.maxlimitpv=1\n",
    "        panelsize=0.4 #kW\n",
    "        # PVCost=3064.56 #$/kW\n",
    "        annual_om_cost_per_kw=OnM.iloc[k*5]\n",
    "        BattCost=Batteryadvanced.iloc[k*5]\n",
    "        PVCost=PVadvanced.iloc[k*5]\n",
    "        # BattCost=654 #$/kW\n",
    "\n",
    "        X2=self.maxlimitpv*self.total_energy_consumption/(solar_prod_annual)\n",
    "        X=X2-(pvk[k-1,h] if k>=1 else 0)-(pvk[k-2,h] if k>=2 else 0)\n",
    "        X1=math.ceil(X/panelsize) #number of 0.4 kW PV panels\n",
    "        # print(\"AEC/AEP per kW = \", X, \"Number of 0.4kW Panels = \", X1)\n",
    "\n",
    "        #PV size options: 100%, 50%, 25%, 0\n",
    "        PV1=X1*panelsize \n",
    "        PV2=math.floor(X1/2)*panelsize\n",
    "        PV3= math.floor(X1/4)*panelsize\n",
    "        PV4=0\n",
    "        data_PV = {'PVSize': [PV1, PV2, PV3, PV4],\n",
    "                  'PVCost': [PVCost*PV1, PVCost*PV2, PVCost*PV3, PVCost*PV4]}\n",
    "        df_PV = pd.DataFrame(data_PV)\n",
    "        \n",
    "        #Battery size options: round down values, closest to selected PV sizes\n",
    "        B1=math.floor(PV1)/Crate\n",
    "        B2=math.floor(PV2)/Crate\n",
    "        B3=math.floor(PV3)/Crate\n",
    "        B4=math.floor(PV4)/Crate\n",
    "        # print('1:', 'PV=', PV1, \"Batt=\", B1, '2:', 'PV=', PV2, \"Batt=\",  B2, '3:', 'PV=', PV3, \"Batt=\", B3, '4:', 'PV=', PV4, \"Batt=\", B4)\n",
    "        data_B = {'BattSize': [B1, B2, B3, B4],\n",
    "                  'BattCost': [BattCost*B1, BattCost*B2, BattCost*B3, 0]} #price of battery\n",
    "        df_B = pd.DataFrame(data_B)  \n",
    "       \n",
    "        self.df_combinations = pd.DataFrame(columns=['PVSize', 'BattSize', 'Total_Cost']) \n",
    "\n",
    "        for _, row_PV in df_PV.iterrows():\n",
    "            for _, row_B in df_B.iterrows():\n",
    "                total_cost = row_PV['PVCost'] + row_B['BattCost'] + annual_om_cost_per_kw*row_PV['PVSize']*systemlifetime\n",
    "                data = [[row_PV['PVSize'], row_B['BattSize'], total_cost]]\n",
    "                self.df_combinations = pd.concat([self.df_combinations, pd.DataFrame(data, columns=['PVSize', 'BattSize', 'Total_Cost'])])\n",
    "\n",
    "        self.df_combinations.reset_index(drop=True, inplace=True)  # Reset the index\n",
    "        print(self.df_combinations)"
   ]
  },
  {
   "cell_type": "markdown",
   "id": "46a6e01a-3877-4049-b2bb-82dedb890815",
   "metadata": {},
   "source": [
    "##### Object for individual customer's decision"
   ]
  },
  {
   "cell_type": "code",
   "execution_count": 42,
   "id": "d0f05f11-e7ee-44c0-a6e3-61aad837a297",
   "metadata": {},
   "outputs": [],
   "source": [
    "class Decision:\n",
    "    # def __init__(self,Electricity_Bill,PVSize,PVSize0,BattSize,BattSize0,BillPV0,SystemCost,BaseBilla,BaseLoada,Loff):\n",
    "    def __init__(self,Electricity_Bill,PVSizedecision,BattSizedecision,SystemCost,Loff):\n",
    "        self.electricity_bill=Electricity_Bill\n",
    "        self.PVSizedecision=PVSizedecision\n",
    "        self.BattSizedecision=BattSizedecision\n",
    "        self.SystemCost=SystemCost\n",
    "        self.options=options\n",
    "        self.Loff=Loff\n",
    "        self.LCOE=np.zeros(self.options)\n",
    "        self.lcoge=self.calculate_lcoge() #levelized cost of grid electricity\n",
    "        self.PV_lcoe=self.calculate_PV_lcoe() #levelized cost of each PV-batt combination\n",
    "        self.system_decision=self.select_system() #logic to select one combination\n",
    "\n",
    "    def calculate_lcoge(self): #previous investment?\n",
    "        self.lcoge = round((Inv[k-2,h]*5/15 + Inv[k-1,h]*10/15 + Billexpected[k,h]*5 + Billkminus1k[h,15]*5 + Bill0[k,h]*5)/(Pd.iloc[h,:].sum()*15) if k>=2 else (Inv[k-1,h]*10/15 + Billexpected[k,h]*10 + Bill0[k,h]*5)/(Pd.iloc[h,:].sum()*15) if k==1 else (Bill0[k,h]*15)/(Pd.iloc[h,:].sum()*15),3)\n",
    "        print('grid lcoe',self.lcoge)\n",
    "        return self.lcoge\n",
    "    \n",
    "    def calculate_PV_lcoe(self):\n",
    "        for i in range(0,self.options):\n",
    "            self.LCOE[i]=round((Inv[k-2,h]*5/15+Inv[k-1,h]*10/15+self.SystemCost[i]+self.electricity_bill[i]*5+Billkminus1k[h,i]*5+Billonlyk[h,i]*5)/(Pd.iloc[h,:].sum()*15) if (k-2) >= 0 else (Inv[k-1,h]*10/15+self.SystemCost[i]+self.electricity_bill[i]*10+Billonlyk[h,i]*5)/(Pd.iloc[h,:].sum()*15) if k==1 else (self.SystemCost[i] + self.electricity_bill[i]*15)/(Pd.iloc[h,:].sum()*15),3)\n",
    "        return(self.LCOE)\n",
    "    \n",
    "    def select_system(self):\n",
    "        print('LCOE combinations',self.LCOE)\n",
    "        self.L= np.append(self.LCOE, self.Loff)\n",
    "        self.PV_add_lcoe=min(filter(lambda y: y <= self.lcoge, self.L), default=None)\n",
    "        index = np.where(self.L==self.PV_add_lcoe)[0]\n",
    "        self.index = index[0]\n",
    "        self.Selected_PV=self.PVSizedecision[self.index]\n",
    "        self.SelectedBatt=self.BattSizedecision[self.index]\n",
    "        print('selected',self.L[self.index])\n",
    "        print('selected PV size', self.Selected_PV)\n",
    "        print('selected Batt size', self.SelectedBatt)\n",
    "        return self.PV_add_lcoe"
   ]
  },
  {
   "cell_type": "markdown",
   "id": "a2ad7433-23ec-469a-827a-817b654f5a46",
   "metadata": {},
   "source": [
    "##### Object for Retailer Cost Calculation- BaU"
   ]
  },
  {
   "cell_type": "code",
   "execution_count": 43,
   "id": "626013dc-f52c-4ac6-9d6f-399765e27ffc",
   "metadata": {},
   "outputs": [],
   "source": [
    "#Business-as-usual\n",
    "#Object for retailer energy-related and fixed-costs\n",
    "class Energy_costs: \n",
    "    def __init__(self,TotalLoad1,cont_vol,cont_price,WS_price,ret_margin_E,ret_margin_NE,risk_margin,admin_ch,fees,HourlyResLoad,hourlynet,hourly_load,hourly_ugen,connectedhouses,dist):\n",
    "        #Energy Procurement variables\n",
    "        self.cont_vol=cont_vol #contract volume\n",
    "        self.cont_price=cont_price #contract price\n",
    "        self.total_load=TotalLoad1\n",
    "        #Variable cost components\n",
    "        self.ret_margin_E=ret_margin_E #energy return margin\n",
    "        self.ret_margin_NE=ret_margin_NE #return margin on non-energy costs\n",
    "        self.risk_margin=risk_margin\n",
    "        #Fixed cost components\n",
    "        self.hourlynetload=hourlynet\n",
    "        self.hourly_load=hourly_load\n",
    "        self.hourly_ugen=hourly_ugen\n",
    "        self.no_of_HH=connectedhouses\n",
    "        self.resload=HourlyResLoad\n",
    "        self.dist=dist\n",
    "\n",
    "        # self.WS_vol=self.calculate_WS_vol()\n",
    "        self.energy_proc_cost=self.calculate_energy_proc_cost()\n",
    "        # self.Ret_Var_Cost=self.calculate_Ret_Var_Cost()\n",
    "        self.Ret_Var_Cost_pu=self.calculate_Ret_Var_Cost_pu()\n",
    "        # # self.FiT=self.calculate_FiT()\n",
    "        self.ret_fixed_cost=self.calculate_ret_fixed_cost()\n",
    "        self.ret_fixed_cost_HH=self.calculate_ret_fixed_cost_HH()\n",
    "        self.ret_ugen_payment=self.calculate_ret_ugen_payment()\n",
    "        self.ret_rev=self.calculate_ret_rev()\n",
    "        self.dsocharges=self.calculate_chargestoDSO()\n",
    "\n",
    "        # self.ret_rev=self.calculate_ret_rev()\n",
    " \n",
    "    def calculate_energy_proc_cost(self): #energy procurment costs from contracts and WS markets\n",
    "        epcost=(WS_price*np.maximum(0,(self.hourlynetload-cont_vol))+cont_vol*cont_price).sum(axis=1)\n",
    "        print('market load', np.maximum(0,(self.hourlynetload-cont_vol)).values.sum())\n",
    "        print('market price', np.average(WS_price))\n",
    "        print('market cost', (WS_price*np.maximum(0,(self.hourlynetload-cont_vol))).values.sum())\n",
    "        print('cont cost', (cont_vol*cont_price).values.sum())               \n",
    "        return epcost\n",
    "    \n",
    "    def calculate_Ret_Var_Cost_pu(self): #retailer's total variable costs\n",
    "        print('EP cost', (self.energy_proc_cost.sum())*(1+self.ret_margin_E+self.risk_margin))\n",
    "        print('load', (self.hourlynetload.values.sum()))\n",
    "        self.rvc=((self.energy_proc_cost)*(1+self.ret_margin_E+self.risk_margin)/(self.hourly_load.sum(axis=1)))\n",
    "        return self.rvc\n",
    "    \n",
    "    def calculate_ret_fixed_cost(self): #retailer's total fixed costs per hour over 15 years\n",
    "        return (admin_ch)*(1+ret_margin_NE)\n",
    "      \n",
    "    def calculate_ret_fixed_cost_HH(self): #fixed costs per household: \n",
    "        return (self.ret_fixed_cost/(5*households.sum(axis=1)*8760)) #per hour charge\n",
    "    \n",
    "    def calculate_ret_ugen_payment(self): #microgeneration payment by retailer @ FiT Negative Cost\n",
    "        ugenpay=0\n",
    "        return ugenpay\n",
    "    \n",
    "    # def calculate_ret_rev(self):\n",
    "    #     return ((self.Ret_Var_Cost_pu*self.hourly_load.sum(axis=1)).sum()+self.ret_fixed_cost)\n",
    "    \n",
    "    def calculate_ret_rev(self):\n",
    "         return ((self.Ret_Var_Cost_pu*base.sum(axis=1)*1000).sum())\n",
    "\n",
    "    def calculate_chargestoDSO(self):\n",
    "        dsocharges=((self.dist)*self.resload.sum(axis=1)).sum()+Fixed_connection_charges\n",
    "        return dsocharges"
   ]
  },
  {
   "cell_type": "markdown",
   "id": "f8fcf075-09a2-4809-a3b5-8d7c8594b1de",
   "metadata": {},
   "source": [
    "##### Object for Delivery Cost Calculation"
   ]
  },
  {
   "cell_type": "code",
   "execution_count": 44,
   "id": "fbd2da1f-c4d5-4afa-a45e-ee18df5afed4",
   "metadata": {},
   "outputs": [],
   "source": [
    "class Delivery_Costs:\n",
    "    def __init__(self,total_load,h):\n",
    "        #margin included in these costs\n",
    "        self.Fixed_connection_charges=Fixed_connection_charges #fixed distribution connection charges\n",
    "        self.total_load=total_load\n",
    "        self.no_of_HH=h\n",
    "        self.T_cost=self.calculate_T_cost()\n",
    "        self.D_cost=self.calculate_D_cost()\n",
    "        self.M_cost=self.calculate_M_cost()\n",
    "        self.dist_var_cost_pu=self.calculate_dist_var_cost_pu()\n",
    "        self.dist_fixed_cost_HH=self.calculate_dist_fixed_cost_HH()\n",
    "\n",
    "    def calculate_T_cost(self):\n",
    "        return Tcost\n",
    "    # /self.total_load\n",
    "    \n",
    "    def calculate_D_cost(self):\n",
    "        return Dcost\n",
    "    # /self.total_load\n",
    "    \n",
    "    def calculate_M_cost(self):\n",
    "        return Mcost\n",
    "    # /self.total_load\n",
    "    \n",
    "    def calculate_dist_var_cost_pu(self): #variable costs per kWh\n",
    "        return (Tcost+Dcost+Mcost)\n",
    "    \n",
    "    def calculate_dist_fixed_cost_HH(self): #fixed costs per house\n",
    "        return (self.Fixed_connection_charges/(5*households.values.sum()*8760))"
   ]
  },
  {
   "cell_type": "code",
   "execution_count": 45,
   "id": "6cb28e31",
   "metadata": {},
   "outputs": [],
   "source": [
    "kmax=3\n",
    "houses=5\n",
    "totalhouses=321900.6\n",
    "yy=0\n",
    "yyend=15\n",
    "cagr=0.016\n",
    "cagrhouses=0.02\n",
    "planninghorizon=yyend-yy\n",
    "hours=8760\n",
    "cont_price=0.15\n",
    "ret_margin_E=0.15\n",
    "ret_margin_NE=0.05\n",
    "risk_margin=0.05\n",
    "Tcost=0.042094\n",
    "Dcost=0.013033\n",
    "Mcost=0.017162\n",
    "# Tcost=0.042094*1.2e+10*planninghorizon\n",
    "# Dcost=0.013033*1.2e+10*planninghorizon\n",
    "# Mcost=0.017162*1.2e+10*planninghorizon\n",
    "# Tcost=0.042094*5.5e+10*planninghorizon\n",
    "# Dcost=0.013033*5.5e+10*planninghorizon\n",
    "# Mcost=0.017162*5.5e+10*planninghorizon\n",
    "Fixed_connection_charges=0.647903*365*planninghorizon*totalhouses*5\n",
    "Other_ch=0\n",
    "# 0.002252 #$/kWh balance pool allocation\n",
    "rate_riders=0 #enter the values as $/h \n",
    "admin_ch=0.2392*totalhouses*5*365*planninghorizon\n",
    "fees=0\n",
    "SOC_min=0.10\n",
    "SOC_max=1\n",
    "Crate=1\n",
    "Pr_th_s=0.16\n",
    "Pr_th_b=0.14\n",
    "dT=1\n",
    "nc=0.95\n",
    "nd=0.95\n",
    "systemlifetime=15 #system lifetime in years\n",
    "solar_prod_annual=1167   #kWh/yr\n",
    "OnM=pd.read_csv('o&mcost.csv', delimiter=',', header=None)\n",
    "Pg = pd.read_csv('PV.csv', delimiter=',', header=None)\n",
    "contractsize = pd.read_csv('cont_vol.csv', delimiter=',', header=None)\n",
    "WSprice = pd.read_csv('WSprice.csv',usecols=[1], delimiter=',', header=None)\n",
    "S2 = pd.read_csv('soc.csv', delimiter=',', header=None) #5000 houses\n",
    "Pd = pd.read_csv('house_load_selected.csv',delimiter=',', header=None) #5 houses\n",
    "Batteryadvanced= pd.read_csv('battcost1.csv', delimiter=',', header=None)\n",
    "PVadvanced=pd.read_csv('pvcost1.csv', delimiter=',', header=None)\n",
    "baseload = pd.read_csv('baseload.csv',delimiter=',', header=None) #1 year"
   ]
  },
  {
   "cell_type": "code",
   "execution_count": 46,
   "id": "4b94db0c-e7ba-456d-913f-f20d2fcb1745",
   "metadata": {},
   "outputs": [],
   "source": [
    "Retailer_VC=np.zeros((kmax+1,hours))\n",
    "Retailer_FC=np.zeros(kmax)\n",
    "T_cost=np.zeros(kmax)\n",
    "D_cost=np.zeros(kmax)\n",
    "M_cost=np.zeros(kmax)\n",
    "D_Fcost=np.zeros(kmax)\n",
    "\n",
    "DSO_charges=np.zeros((kmax))\n",
    "DSO_charges_actual=np.zeros((kmax))\n",
    "Retailer_VC_actual=np.zeros((kmax+1,hours))\n",
    "Retailer_FC_actual=np.zeros(kmax)\n",
    "Retailer_Rev=np.zeros((kmax))\n",
    "Retailer_Rev_actual=np.zeros((kmax))\n",
    "Retailer_Revenue_Household=np.zeros((kmax))\n",
    "Retailer_Revenue_Household_actual=np.zeros((kmax))\n",
    "profit=np.zeros(kmax)\n",
    "actualprofit=np.zeros(kmax)\n",
    "\n",
    "energycost=np.zeros(kmax)\n",
    "energycostactual=np.zeros(kmax)\n",
    "\n",
    "T_cost_actual=np.zeros(kmax)\n",
    "D_cost_actual=np.zeros(kmax)\n",
    "M_cost_actual=np.zeros(kmax)\n",
    "D_Fcost_actual=np.zeros(kmax)\n",
    "st=np.zeros(houses)\n",
    "\n",
    "ugenpayment=np.zeros(kmax)\n",
    "ugenpaymentactual=np.zeros(kmax)\n",
    "Electricity_Bill=np.zeros((16,houses))\n",
    "Electricity_Bill_actual=np.zeros((kmax,houses))\n",
    "Actualbill=np.zeros((kmax,houses))\n",
    "Actualbillkminus1k=np.zeros((kmax,houses))\n",
    "Actualbillonlyk=np.zeros((kmax,houses))\n",
    "Actualbill0=np.zeros((kmax,houses))\n",
    "\n",
    "Bill0=np.zeros((kmax,houses))\n",
    "\n",
    "Credits=np.zeros((kmax,houses))\n",
    "Credits_actual=np.zeros((kmax,houses))\n",
    "Demand=np.zeros((houses,hours))\n",
    "Base_demand=np.zeros((hours))\n",
    "EC2=0\n",
    "EG2=0\n",
    "EB2=0\n",
    "hh=0\n",
    "system_size_b = pd.DataFrame(0, index=range(houses), columns=[\"\"])\n",
    "batt=np.zeros(houses)\n",
    "\n",
    "battk=np.zeros((kmax,houses))\n",
    "pvk=np.zeros((kmax,houses))\n",
    "\n",
    "s=pd.DataFrame(kmax, index=range(houses), columns=[\"\"])\n",
    "Inv=np.zeros((kmax,houses))\n",
    "flags = [False] * houses\n",
    "\n",
    "Billexpected=np.zeros((kmax,houses))"
   ]
  },
  {
   "cell_type": "code",
   "execution_count": 47,
   "id": "4f81d432-bfd3-431a-bf72-24aba0cdf3da",
   "metadata": {},
   "outputs": [
    {
     "name": "stdout",
     "output_type": "stream",
     "text": [
      "k= 0\n",
      "TotalLoad_h [37714.60083216]\n",
      "households.values.sum() 5566761.281377016\n",
      "(base.values.sum()*1000) 669202285712.9642\n",
      "Reductions in houseshold load [0.]\n",
      "Increased base load 71781081763.25415\n",
      "Total Grid Load for 15 years: [8.79150465e+11] kWh\n",
      "Total Res Load for 15 years: [2.0994818e+11] kWh\n",
      "Total Injection for 15 years: 0.0 kWh\n",
      "market load [2.55529271e+11]\n",
      "market price 0.06597014216133942\n",
      "market cost [1.7442721e+10]\n",
      "cont cost 93543179220.0\n",
      "EP cost [1.3318308e+11]\n",
      "load [8.79150465e+11]\n"
     ]
    },
    {
     "name": "stderr",
     "output_type": "stream",
     "text": [
      "C:\\Users\\ASUS\\AppData\\Local\\Temp\\ipykernel_2844\\4275954818.py:127: FutureWarning: Calling float on a single element Series is deprecated and will raise a TypeError in the future. Use float(ser.iloc[0]) instead\n",
      "  Retailer_FC[k]=Retailer.ret_fixed_cost_HH\n"
     ]
    },
    {
     "name": "stdout",
     "output_type": "stream",
     "text": [
      "Total Energy Cost 110985900203.14035 C$\n",
      "Retailer VC [0.14180014 0.13919325 0.13723829 ... 0.14062304 0.14044411 0.14089675] C$/kWh\n",
      "Retailer FC 0.009077153506482069 C$/h\n",
      "Transmission cost 0.042094 C$/kWh\n",
      "Distribution cost 0.013033 C$/kWh\n",
      "Municipal cost 0.017162 C$/kWh\n",
      "Retailer revenue 100992553721.69186 C$\n",
      "Payment by Retailer for Injections 0.0 C$\n",
      "Retailer Profit 0.0 C$\n",
      "households          0           1             2              3              4   \\\n",
      "0  321900.6  328338.612  334905.38424  341603.491925  348435.561763   \n",
      "\n",
      "              5              6              7             8              9   \\\n",
      "0  355404.272999  362512.358459  369762.605628  377157.85774  384701.014895   \n",
      "\n",
      "              10             11             12             13             14  \n",
      "0  392395.035193  400242.935897  408247.794615  416412.750507  424741.005517  \n"
     ]
    },
    {
     "name": "stderr",
     "output_type": "stream",
     "text": [
      "C:\\Users\\ASUS\\AppData\\Local\\Temp\\ipykernel_2844\\4275954818.py:159: FutureWarning: Calling float on a single element Series is deprecated and will raise a TypeError in the future. Use float(ser.iloc[0]) instead\n",
      "  Retailer_Revenue_Household[k]=Billexpected[k].sum()*(households.sum(axis=1))\n"
     ]
    },
    {
     "name": "stdout",
     "output_type": "stream",
     "text": [
      "Retailer revenue total 156282846015.98492 C$\n",
      "Cost to DSO 20886283935.679928 C$\n",
      "Retailer Profit 22302824558.304646 C$\n",
      "    PVSize  BattSize                                 Total_Cost\n",
      "0      3.2       3.0  0    13482.603438\n",
      "Name: 0, dtype: float64\n",
      "1      3.2       1.0  0    12238.480308\n",
      "Name: 0, dtype: float64\n",
      "2      3.2       0.0  0    11616.418743\n",
      "Name: 0, dtype: float64\n",
      "3      3.2       0.0  0    11616.418743\n",
      "Name: 0, dtype: float64\n",
      "4      1.6       3.0   0    7674.394066\n",
      "Name: 0, dtype: float64\n",
      "5      1.6       1.0   0    6430.270937\n",
      "Name: 0, dtype: float64\n",
      "6      1.6       0.0   0    5808.209372\n",
      "Name: 0, dtype: float64\n",
      "7      1.6       0.0   0    5808.209372\n",
      "Name: 0, dtype: float64\n",
      "8      0.8       3.0    0    4770.28938\n",
      "Name: 0, dtype: float64\n",
      "9      0.8       1.0   0    3526.166251\n",
      "Name: 0, dtype: float64\n",
      "10     0.8       0.0   0    2904.104686\n",
      "Name: 0, dtype: float64\n",
      "11     0.8       0.0   0    2904.104686\n",
      "Name: 0, dtype: float64\n",
      "12     0.0       3.0   0    1866.184695\n",
      "Name: 0, dtype: float64\n",
      "13     0.0       1.0    0    622.061565\n",
      "Name: 0, dtype: float64\n",
      "14     0.0       0.0           0    0.0\n",
      "Name: 0, dtype: float64\n",
      "15     0.0       0.0           0    0.0\n",
      "Name: 0, dtype: float64\n"
     ]
    },
    {
     "name": "stderr",
     "output_type": "stream",
     "text": [
      "C:\\Users\\ASUS\\AppData\\Local\\Temp\\ipykernel_2844\\4275954818.py:221: FutureWarning: Calling float on a single element Series is deprecated and will raise a TypeError in the future. Use float(ser.iloc[0]) instead\n",
      "  SystemCost[i]=systemsize.df_combinations.iloc[i,2]\n"
     ]
    },
    {
     "name": "stdout",
     "output_type": "stream",
     "text": [
      "grid lcoe 0.298\n",
      "LCOE combinations [0.51  0.449 0.428 0.428 0.413 0.355 0.332 0.332 0.36  0.317 0.298 0.298\n",
      " 0.334 0.31  0.298 0.298]\n",
      "selected 0.298\n",
      "selected PV size 0.8\n",
      "selected Batt size 0.0\n",
      "    PVSize  BattSize                                 Total_Cost\n",
      "0      6.8       6.0  0    28417.259219\n",
      "Name: 0, dtype: float64\n",
      "1      6.8       3.0  0    26551.074524\n",
      "Name: 0, dtype: float64\n",
      "2      6.8       1.0  0    25306.951394\n",
      "Name: 0, dtype: float64\n",
      "3      6.8       0.0  0    24684.889829\n",
      "Name: 0, dtype: float64\n",
      "4      3.2       6.0  0    15348.788133\n",
      "Name: 0, dtype: float64\n",
      "5      3.2       3.0  0    13482.603438\n",
      "Name: 0, dtype: float64\n",
      "6      3.2       1.0  0    12238.480308\n",
      "Name: 0, dtype: float64\n",
      "7      3.2       0.0  0    11616.418743\n",
      "Name: 0, dtype: float64\n",
      "8      1.6       6.0   0    9540.578761\n",
      "Name: 0, dtype: float64\n",
      "9      1.6       3.0   0    7674.394066\n",
      "Name: 0, dtype: float64\n",
      "10     1.6       1.0   0    6430.270937\n",
      "Name: 0, dtype: float64\n",
      "11     1.6       0.0   0    5808.209372\n",
      "Name: 0, dtype: float64\n",
      "12     0.0       6.0   0    3732.369389\n",
      "Name: 0, dtype: float64\n",
      "13     0.0       3.0   0    1866.184695\n",
      "Name: 0, dtype: float64\n",
      "14     0.0       1.0    0    622.061565\n",
      "Name: 0, dtype: float64\n",
      "15     0.0       0.0           0    0.0\n",
      "Name: 0, dtype: float64\n"
     ]
    },
    {
     "name": "stderr",
     "output_type": "stream",
     "text": [
      "C:\\Users\\ASUS\\AppData\\Local\\Temp\\ipykernel_2844\\4275954818.py:221: FutureWarning: Calling float on a single element Series is deprecated and will raise a TypeError in the future. Use float(ser.iloc[0]) instead\n",
      "  SystemCost[i]=systemsize.df_combinations.iloc[i,2]\n"
     ]
    },
    {
     "name": "stdout",
     "output_type": "stream",
     "text": [
      "grid lcoe 0.254\n",
      "LCOE combinations [0.456 0.413 0.386 0.381 0.356 0.316 0.29  0.282 0.31  0.281 0.262 0.254\n",
      " 0.287 0.271 0.26  0.254]\n",
      "selected 0.254\n",
      "selected PV size 1.6\n",
      "selected Batt size 0.0\n",
      "    PVSize  BattSize                                 Total_Cost\n",
      "0      8.0       8.0  0    34017.539377\n",
      "Name: 0, dtype: float64\n",
      "1      8.0       4.0  0    31529.293118\n",
      "Name: 0, dtype: float64\n",
      "2      8.0       2.0  0    30285.169988\n",
      "Name: 0, dtype: float64\n",
      "3      8.0       0.0  0    29041.046858\n",
      "Name: 0, dtype: float64\n",
      "4      4.0       8.0  0    19497.015948\n",
      "Name: 0, dtype: float64\n",
      "5      4.0       4.0  0    17008.769689\n",
      "Name: 0, dtype: float64\n",
      "6      4.0       2.0  0    15764.646559\n",
      "Name: 0, dtype: float64\n",
      "7      4.0       0.0  0    14520.523429\n",
      "Name: 0, dtype: float64\n",
      "8      2.0       8.0  0    12236.754234\n",
      "Name: 0, dtype: float64\n",
      "9      2.0       4.0   0    9748.507974\n",
      "Name: 0, dtype: float64\n",
      "10     2.0       2.0   0    8504.384844\n",
      "Name: 0, dtype: float64\n",
      "11     2.0       0.0   0    7260.261715\n",
      "Name: 0, dtype: float64\n",
      "12     0.0       8.0   0    4976.492519\n",
      "Name: 0, dtype: float64\n",
      "13     0.0       4.0    0    2488.24626\n",
      "Name: 0, dtype: float64\n",
      "14     0.0       2.0    0    1244.12313\n",
      "Name: 0, dtype: float64\n",
      "15     0.0       0.0           0    0.0\n",
      "Name: 0, dtype: float64\n"
     ]
    },
    {
     "name": "stderr",
     "output_type": "stream",
     "text": [
      "C:\\Users\\ASUS\\AppData\\Local\\Temp\\ipykernel_2844\\4275954818.py:221: FutureWarning: Calling float on a single element Series is deprecated and will raise a TypeError in the future. Use float(ser.iloc[0]) instead\n",
      "  SystemCost[i]=systemsize.df_combinations.iloc[i,2]\n"
     ]
    },
    {
     "name": "stdout",
     "output_type": "stream",
     "text": [
      "grid lcoe 0.248\n",
      "LCOE combinations [0.457 0.412 0.39  0.377 0.364 0.322 0.302 0.286 0.315 0.282 0.266 0.252\n",
      " 0.283 0.265 0.257 0.248]\n",
      "selected 0.248\n",
      "selected PV size 0.0\n",
      "selected Batt size 0.0\n",
      "    PVSize  BattSize                                 Total_Cost\n",
      "0     10.4      10.0  0    43973.976564\n",
      "Name: 0, dtype: float64\n",
      "1     10.4       5.0   0    40863.66874\n",
      "Name: 0, dtype: float64\n",
      "2     10.4       2.0  0    38997.484045\n",
      "Name: 0, dtype: float64\n",
      "3     10.4       0.0  0    37753.360915\n",
      "Name: 0, dtype: float64\n",
      "4      5.2      10.0  0    25097.296107\n",
      "Name: 0, dtype: float64\n",
      "5      5.2       5.0  0    21986.988282\n",
      "Name: 0, dtype: float64\n",
      "6      5.2       2.0  0    20120.803588\n",
      "Name: 0, dtype: float64\n",
      "7      5.2       0.0  0    18876.680458\n",
      "Name: 0, dtype: float64\n",
      "8      2.4      10.0  0    14932.929706\n",
      "Name: 0, dtype: float64\n",
      "9      2.4       5.0  0    11822.621882\n",
      "Name: 0, dtype: float64\n",
      "10     2.4       2.0   0    9956.437187\n",
      "Name: 0, dtype: float64\n",
      "11     2.4       0.0   0    8712.314057\n",
      "Name: 0, dtype: float64\n",
      "12     0.0      10.0   0    6220.615649\n",
      "Name: 0, dtype: float64\n",
      "13     0.0       5.0   0    3110.307825\n",
      "Name: 0, dtype: float64\n",
      "14     0.0       2.0    0    1244.12313\n",
      "Name: 0, dtype: float64\n",
      "15     0.0       0.0           0    0.0\n",
      "Name: 0, dtype: float64\n"
     ]
    },
    {
     "name": "stderr",
     "output_type": "stream",
     "text": [
      "C:\\Users\\ASUS\\AppData\\Local\\Temp\\ipykernel_2844\\4275954818.py:221: FutureWarning: Calling float on a single element Series is deprecated and will raise a TypeError in the future. Use float(ser.iloc[0]) instead\n",
      "  SystemCost[i]=systemsize.df_combinations.iloc[i,2]\n"
     ]
    },
    {
     "name": "stdout",
     "output_type": "stream",
     "text": [
      "grid lcoe 0.241\n",
      "LCOE combinations [0.437 0.394 0.368 0.36  0.347 0.306 0.282 0.271 0.295 0.267 0.25  0.24\n",
      " 0.275 0.258 0.248 0.241]\n",
      "selected 0.24\n",
      "selected PV size 2.4000000000000004\n",
      "selected Batt size 0.0\n",
      "    PVSize  BattSize                                 Total_Cost\n",
      "0      4.8       4.0  0    19912.874374\n",
      "Name: 0, dtype: float64\n",
      "1      4.8       2.0  0    18668.751245\n",
      "Name: 0, dtype: float64\n",
      "2      4.8       1.0   0    18046.68968\n",
      "Name: 0, dtype: float64\n",
      "3      4.8       0.0  0    17424.628115\n",
      "Name: 0, dtype: float64\n",
      "4      2.4       4.0  0    11200.560317\n",
      "Name: 0, dtype: float64\n",
      "5      2.4       2.0   0    9956.437187\n",
      "Name: 0, dtype: float64\n",
      "6      2.4       1.0   0    9334.375622\n",
      "Name: 0, dtype: float64\n",
      "7      2.4       0.0   0    8712.314057\n",
      "Name: 0, dtype: float64\n",
      "8      1.2       4.0   0    6844.403288\n",
      "Name: 0, dtype: float64\n",
      "9      1.2       2.0   0    5600.280159\n",
      "Name: 0, dtype: float64\n",
      "10     1.2       1.0   0    4978.218594\n",
      "Name: 0, dtype: float64\n",
      "11     1.2       0.0   0    4356.157029\n",
      "Name: 0, dtype: float64\n",
      "12     0.0       4.0    0    2488.24626\n",
      "Name: 0, dtype: float64\n",
      "13     0.0       2.0    0    1244.12313\n",
      "Name: 0, dtype: float64\n",
      "14     0.0       1.0    0    622.061565\n",
      "Name: 0, dtype: float64\n",
      "15     0.0       0.0           0    0.0\n",
      "Name: 0, dtype: float64\n"
     ]
    },
    {
     "name": "stderr",
     "output_type": "stream",
     "text": [
      "C:\\Users\\ASUS\\AppData\\Local\\Temp\\ipykernel_2844\\4275954818.py:221: FutureWarning: Calling float on a single element Series is deprecated and will raise a TypeError in the future. Use float(ser.iloc[0]) instead\n",
      "  SystemCost[i]=systemsize.df_combinations.iloc[i,2]\n"
     ]
    },
    {
     "name": "stdout",
     "output_type": "stream",
     "text": [
      "grid lcoe 0.271\n",
      "LCOE combinations [0.466 0.424 0.404 0.393 0.372 0.333 0.314 0.3   0.328 0.298 0.283 0.27\n",
      " 0.303 0.287 0.279 0.271]\n",
      "selected 0.27\n",
      "selected PV size 1.2000000000000002\n",
      "selected Batt size 0.0\n",
      "Actual Annual Load: 836193162547.4845 kWh\n",
      "Actual Res Load: 166990876834.5203 kWh\n",
      "Actual Annual Injection: -3524961767.304295 kWh\n",
      "market load 209166092712.10013\n",
      "market price 0.06597014216133942\n",
      "market cost 13107979955.253906\n",
      "cont cost 93543179220.0\n",
      "EP cost 127981391010.30469\n",
      "load 832668200780.1802\n",
      "Actual Total Energy Cost 106651159175.2539 C$\n",
      "Actual Retailer VC [0.14199332 0.13919325 0.13723829 ... 0.14070827 0.14049485 0.14098413] C$/kWh\n",
      "Actual Retailer FC 0.009077153506482069 C$/h\n",
      "Actual Transmission cost 0.042094 C$/kWh\n",
      "Actual Distribution cost 0.013033 C$/kWh\n",
      "Actual Municipal cost 0.017162 C$/kWh\n",
      "Actual Retailer Revenue 102420395997.75404 C$\n",
      "Actual Payment by Retailer for Injections 0.0 C$\n",
      "Actual Retailer Profit 0.0 C$\n"
     ]
    },
    {
     "name": "stderr",
     "output_type": "stream",
     "text": [
      "C:\\Users\\ASUS\\AppData\\Local\\Temp\\ipykernel_2844\\4275954818.py:350: FutureWarning: Calling float on a single element Series is deprecated and will raise a TypeError in the future. Use float(ser.iloc[0]) instead\n",
      "  Retailer_FC_actual[k]=Retaileractual.ret_fixed_cost_HH\n",
      "C:\\Users\\ASUS\\AppData\\Local\\Temp\\ipykernel_2844\\4275954818.py:393: FutureWarning: Calling float on a single element Series is deprecated and will raise a TypeError in the future. Use float(ser.iloc[0]) instead\n",
      "  Retailer_Revenue_Household_actual[k]=Actualbill[k].sum()*(households.sum(axis=1))\n"
     ]
    },
    {
     "name": "stdout",
     "output_type": "stream",
     "text": [
      "Retailer revenue total 147975816318.926 C$\n",
      "Cost to DSO 17780943472.08491 C$\n",
      "Retailer Profit 21435876352.727177 C$\n",
      "   PV1  PV2  PV3  PV4  PV5\n",
      "0  0.8  1.6  0.0  2.4  1.2\n",
      "1  0.0  0.0  0.0  0.0  0.0\n",
      "2  0.0  0.0  0.0  0.0  0.0\n",
      "   Batt1  Batt2  Batt3  Batt4  Batt5\n",
      "0    0.0    0.0    0.0    0.0    0.0\n",
      "1    0.0    0.0    0.0    0.0    0.0\n",
      "2    0.0    0.0    0.0    0.0    0.0\n",
      "-------------------------------\n",
      "k= 1\n",
      "TotalLoad_h [29776.83718715]\n",
      "households.values.sum() 6146154.266765397\n",
      "(base.values.sum()*1000) 724479256932.9639\n",
      "Reductions in houseshold load [4.87867199e+10]\n",
      "Increased base load 77710291623.23026\n",
      "Total Grid Load for 15 years: [9.07492292e+11] kWh\n",
      "Total Res Load for 15 years: [1.83013035e+11] kWh\n",
      "Total Injection for 15 years: [-4.0488625e+09] kWh\n",
      "market load [2.79823173e+11]\n",
      "market price 0.06597014216133942\n",
      "market cost [1.78193474e+10]\n",
      "cont cost 93543179220.0\n",
      "EP cost [1.33635032e+11]\n",
      "load [9.03443429e+11]\n"
     ]
    },
    {
     "name": "stderr",
     "output_type": "stream",
     "text": [
      "C:\\Users\\ASUS\\AppData\\Local\\Temp\\ipykernel_2844\\4275954818.py:127: FutureWarning: Calling float on a single element Series is deprecated and will raise a TypeError in the future. Use float(ser.iloc[0]) instead\n",
      "  Retailer_FC[k]=Retailer.ret_fixed_cost_HH\n"
     ]
    },
    {
     "name": "stdout",
     "output_type": "stream",
     "text": [
      "Total Energy Cost 111362526667.83743 C$\n",
      "Retailer VC [0.13441373 0.1311245  0.12878853 ... 0.13297817 0.13276579 0.13337156] C$/kWh\n",
      "Retailer FC 0.008221457596376465 C$/h\n",
      "Transmission cost 0.042094 C$/kWh\n",
      "Distribution cost 0.013033 C$/kWh\n",
      "Municipal cost 0.017162 C$/kWh\n",
      "Retailer revenue 106662159827.7592 C$\n",
      "Payment by Retailer for Injections 0.0 C$\n",
      "Retailer Profit 0.0 C$\n",
      "households               0              1              2             3              4   \\\n",
      "0  355404.272999  362512.358459  369762.605628  377157.85774  384701.014895   \n",
      "\n",
      "              5              6              7              8              9   \\\n",
      "0  392395.035193  400242.935897  408247.794615  416412.750507  424741.005517   \n",
      "\n",
      "              10            11             12             13             14  \n",
      "0  433235.825628  441900.54214  450738.552983  459753.324043  468948.390523  \n"
     ]
    },
    {
     "name": "stderr",
     "output_type": "stream",
     "text": [
      "C:\\Users\\ASUS\\AppData\\Local\\Temp\\ipykernel_2844\\4275954818.py:159: FutureWarning: Calling float on a single element Series is deprecated and will raise a TypeError in the future. Use float(ser.iloc[0]) instead\n",
      "  Retailer_Revenue_Household[k]=Billexpected[k].sum()*(households.sum(axis=1))\n"
     ]
    },
    {
     "name": "stdout",
     "output_type": "stream",
     "text": [
      "Retailer revenue total 154787683096.4897 C$\n",
      "Cost to DSO 18939169258.547874 C$\n",
      "Retailer Profit 22378149851.244377 C$\n",
      "    PVSize  BattSize                                Total_Cost\n",
      "0      2.4       2.0  0    6278.369025\n",
      "Name: 5, dtype: float64\n",
      "1      2.4       1.0  0    5800.543925\n",
      "Name: 5, dtype: float64\n",
      "2      2.4       0.0  0    5322.718825\n",
      "Name: 5, dtype: float64\n",
      "3      2.4       0.0  0    5322.718825\n",
      "Name: 5, dtype: float64\n",
      "4      1.2       2.0  0    3617.009613\n",
      "Name: 5, dtype: float64\n",
      "5      1.2       1.0  0    3139.184513\n",
      "Name: 5, dtype: float64\n",
      "6      1.2       0.0  0    2661.359413\n",
      "Name: 5, dtype: float64\n",
      "7      1.2       0.0  0    2661.359413\n",
      "Name: 5, dtype: float64\n",
      "8      0.4       2.0  0    1842.770004\n",
      "Name: 5, dtype: float64\n",
      "9      0.4       1.0  0    1364.944904\n",
      "Name: 5, dtype: float64\n",
      "10     0.4       0.0   0    887.119804\n",
      "Name: 5, dtype: float64\n",
      "11     0.4       0.0   0    887.119804\n",
      "Name: 5, dtype: float64\n",
      "12     0.0       2.0     0    955.6502\n",
      "Name: 5, dtype: float64\n",
      "13     0.0       1.0     0    477.8251\n",
      "Name: 5, dtype: float64\n",
      "14     0.0       0.0          0    0.0\n",
      "Name: 5, dtype: float64\n",
      "15     0.0       0.0          0    0.0\n",
      "Name: 5, dtype: float64\n"
     ]
    },
    {
     "name": "stderr",
     "output_type": "stream",
     "text": [
      "C:\\Users\\ASUS\\AppData\\Local\\Temp\\ipykernel_2844\\4275954818.py:221: FutureWarning: Calling float on a single element Series is deprecated and will raise a TypeError in the future. Use float(ser.iloc[0]) instead\n",
      "  SystemCost[i]=systemsize.df_combinations.iloc[i,2]\n"
     ]
    },
    {
     "name": "stdout",
     "output_type": "stream",
     "text": [
      "grid lcoe 0.287\n",
      "LCOE combinations [0.383 0.356 0.337 0.337 0.344 0.318 0.298 0.298 0.322 0.302 0.285 0.285\n",
      " 0.317 0.302 0.288 0.288]\n",
      "selected 0.285\n",
      "selected PV size 0.4\n",
      "selected Batt size 0.0\n",
      "    PVSize  BattSize                                 Total_Cost\n",
      "0      5.2       5.0  0    13921.682955\n",
      "Name: 5, dtype: float64\n",
      "1      5.2       2.0  0    12488.207655\n",
      "Name: 5, dtype: float64\n",
      "2      5.2       1.0  0    12010.382555\n",
      "Name: 5, dtype: float64\n",
      "3      5.2       0.0  0    11532.557455\n",
      "Name: 5, dtype: float64\n",
      "4      2.4       5.0   0    7711.844325\n",
      "Name: 5, dtype: float64\n",
      "5      2.4       2.0   0    6278.369025\n",
      "Name: 5, dtype: float64\n",
      "6      2.4       1.0   0    5800.543925\n",
      "Name: 5, dtype: float64\n",
      "7      2.4       0.0   0    5322.718825\n",
      "Name: 5, dtype: float64\n",
      "8      1.2       5.0   0    5050.484912\n",
      "Name: 5, dtype: float64\n",
      "9      1.2       2.0   0    3617.009613\n",
      "Name: 5, dtype: float64\n",
      "10     1.2       1.0   0    3139.184513\n",
      "Name: 5, dtype: float64\n",
      "11     1.2       0.0   0    2661.359413\n",
      "Name: 5, dtype: float64\n",
      "12     0.0       5.0   0    2389.125499\n",
      "Name: 5, dtype: float64\n",
      "13     0.0       2.0      0    955.6502\n",
      "Name: 5, dtype: float64\n",
      "14     0.0       1.0      0    477.8251\n",
      "Name: 5, dtype: float64\n",
      "15     0.0       0.0           0    0.0\n",
      "Name: 5, dtype: float64\n"
     ]
    },
    {
     "name": "stderr",
     "output_type": "stream",
     "text": [
      "C:\\Users\\ASUS\\AppData\\Local\\Temp\\ipykernel_2844\\4275954818.py:221: FutureWarning: Calling float on a single element Series is deprecated and will raise a TypeError in the future. Use float(ser.iloc[0]) instead\n",
      "  SystemCost[i]=systemsize.df_combinations.iloc[i,2]\n"
     ]
    },
    {
     "name": "stdout",
     "output_type": "stream",
     "text": [
      "grid lcoe 0.246\n",
      "LCOE combinations [0.349 0.312 0.3   0.295 0.307 0.272 0.261 0.254 0.29  0.261 0.252 0.245\n",
      " 0.282 0.261 0.254 0.248]\n",
      "selected 0.245\n",
      "selected PV size 1.2000000000000002\n",
      "selected Batt size 0.0\n",
      "    PVSize  BattSize                                 Total_Cost\n",
      "0      8.0       8.0  0    21564.996884\n",
      "Name: 5, dtype: float64\n",
      "1      8.0       4.0  0    19653.696484\n",
      "Name: 5, dtype: float64\n",
      "2      8.0       2.0  0    18698.046285\n",
      "Name: 5, dtype: float64\n",
      "3      8.0       0.0  0    17742.396085\n",
      "Name: 5, dtype: float64\n",
      "4      4.0       8.0  0    12693.798842\n",
      "Name: 5, dtype: float64\n",
      "5      4.0       4.0  0    10782.498442\n",
      "Name: 5, dtype: float64\n",
      "6      4.0       2.0   0    9826.848242\n",
      "Name: 5, dtype: float64\n",
      "7      4.0       0.0   0    8871.198042\n",
      "Name: 5, dtype: float64\n",
      "8      2.0       8.0    0    8258.19982\n",
      "Name: 5, dtype: float64\n",
      "9      2.0       4.0   0    6346.899421\n",
      "Name: 5, dtype: float64\n",
      "10     2.0       2.0   0    5391.249221\n",
      "Name: 5, dtype: float64\n",
      "11     2.0       0.0   0    4435.599021\n",
      "Name: 5, dtype: float64\n",
      "12     0.0       8.0   0    3822.600799\n",
      "Name: 5, dtype: float64\n",
      "13     0.0       4.0     0    1911.3004\n",
      "Name: 5, dtype: float64\n",
      "14     0.0       2.0      0    955.6502\n",
      "Name: 5, dtype: float64\n",
      "15     0.0       0.0           0    0.0\n",
      "Name: 5, dtype: float64\n"
     ]
    },
    {
     "name": "stderr",
     "output_type": "stream",
     "text": [
      "C:\\Users\\ASUS\\AppData\\Local\\Temp\\ipykernel_2844\\4275954818.py:221: FutureWarning: Calling float on a single element Series is deprecated and will raise a TypeError in the future. Use float(ser.iloc[0]) instead\n",
      "  SystemCost[i]=systemsize.df_combinations.iloc[i,2]\n"
     ]
    },
    {
     "name": "stdout",
     "output_type": "stream",
     "text": [
      "grid lcoe 0.241\n",
      "LCOE combinations [0.362 0.321 0.301 0.291 0.311 0.273 0.254 0.24  0.282 0.253 0.238 0.226\n",
      " 0.27  0.256 0.249 0.242]\n",
      "selected 0.226\n",
      "selected PV size 2.0\n",
      "selected Batt size 0.0\n",
      "    PVSize  BattSize                                 Total_Cost\n",
      "0      8.0       8.0  0    21564.996884\n",
      "Name: 5, dtype: float64\n",
      "1      8.0       4.0  0    19653.696484\n",
      "Name: 5, dtype: float64\n",
      "2      8.0       2.0  0    18698.046285\n",
      "Name: 5, dtype: float64\n",
      "3      8.0       0.0  0    17742.396085\n",
      "Name: 5, dtype: float64\n",
      "4      4.0       8.0  0    12693.798842\n",
      "Name: 5, dtype: float64\n",
      "5      4.0       4.0  0    10782.498442\n",
      "Name: 5, dtype: float64\n",
      "6      4.0       2.0   0    9826.848242\n",
      "Name: 5, dtype: float64\n",
      "7      4.0       0.0   0    8871.198042\n",
      "Name: 5, dtype: float64\n",
      "8      2.0       8.0    0    8258.19982\n",
      "Name: 5, dtype: float64\n",
      "9      2.0       4.0   0    6346.899421\n",
      "Name: 5, dtype: float64\n",
      "10     2.0       2.0   0    5391.249221\n",
      "Name: 5, dtype: float64\n",
      "11     2.0       0.0   0    4435.599021\n",
      "Name: 5, dtype: float64\n",
      "12     0.0       8.0   0    3822.600799\n",
      "Name: 5, dtype: float64\n",
      "13     0.0       4.0     0    1911.3004\n",
      "Name: 5, dtype: float64\n",
      "14     0.0       2.0      0    955.6502\n",
      "Name: 5, dtype: float64\n",
      "15     0.0       0.0           0    0.0\n",
      "Name: 5, dtype: float64\n"
     ]
    },
    {
     "name": "stderr",
     "output_type": "stream",
     "text": [
      "C:\\Users\\ASUS\\AppData\\Local\\Temp\\ipykernel_2844\\4275954818.py:221: FutureWarning: Calling float on a single element Series is deprecated and will raise a TypeError in the future. Use float(ser.iloc[0]) instead\n",
      "  SystemCost[i]=systemsize.df_combinations.iloc[i,2]\n"
     ]
    },
    {
     "name": "stdout",
     "output_type": "stream",
     "text": [
      "grid lcoe 0.234\n",
      "LCOE combinations [0.333 0.301 0.286 0.279 0.295 0.266 0.252 0.243 0.279 0.254 0.242 0.233\n",
      " 0.268 0.252 0.243 0.236]\n",
      "selected 0.233\n",
      "selected PV size 2.0\n",
      "selected Batt size 0.0\n",
      "    PVSize  BattSize                                Total_Cost\n",
      "0      3.6       3.0  0    9417.553538\n",
      "Name: 5, dtype: float64\n",
      "1      3.6       1.0  0    8461.903338\n",
      "Name: 5, dtype: float64\n",
      "2      3.6       0.0  0    7984.078238\n",
      "Name: 5, dtype: float64\n",
      "3      3.6       0.0  0    7984.078238\n",
      "Name: 5, dtype: float64\n",
      "4      1.6       3.0  0    4981.954517\n",
      "Name: 5, dtype: float64\n",
      "5      1.6       1.0  0    4026.304317\n",
      "Name: 5, dtype: float64\n",
      "6      1.6       0.0  0    3548.479217\n",
      "Name: 5, dtype: float64\n",
      "7      1.6       0.0  0    3548.479217\n",
      "Name: 5, dtype: float64\n",
      "8      0.8       3.0  0    3207.714908\n",
      "Name: 5, dtype: float64\n",
      "9      0.8       1.0  0    2252.064708\n",
      "Name: 5, dtype: float64\n",
      "10     0.8       0.0  0    1774.239608\n",
      "Name: 5, dtype: float64\n",
      "11     0.8       0.0  0    1774.239608\n",
      "Name: 5, dtype: float64\n",
      "12     0.0       3.0    0    1433.4753\n",
      "Name: 5, dtype: float64\n",
      "13     0.0       1.0     0    477.8251\n",
      "Name: 5, dtype: float64\n",
      "14     0.0       0.0          0    0.0\n",
      "Name: 5, dtype: float64\n",
      "15     0.0       0.0          0    0.0\n",
      "Name: 5, dtype: float64\n"
     ]
    },
    {
     "name": "stderr",
     "output_type": "stream",
     "text": [
      "C:\\Users\\ASUS\\AppData\\Local\\Temp\\ipykernel_2844\\4275954818.py:221: FutureWarning: Calling float on a single element Series is deprecated and will raise a TypeError in the future. Use float(ser.iloc[0]) instead\n",
      "  SystemCost[i]=systemsize.df_combinations.iloc[i,2]\n"
     ]
    },
    {
     "name": "stdout",
     "output_type": "stream",
     "text": [
      "grid lcoe 0.262\n",
      "LCOE combinations [0.352 0.315 0.306 0.306 0.312 0.278 0.266 0.266 0.298 0.27  0.259 0.259\n",
      " 0.295 0.273 0.263 0.263]\n",
      "selected 0.259\n",
      "selected PV size 0.8\n",
      "selected Batt size 0.0\n",
      "Actual Annual Load: 883669259771.0175 kWh\n",
      "Actual Res Load: 159190002838.0536 kWh\n",
      "Actual Annual Injection: -23649269376.272625 kWh\n",
      "market load 243863145847.31702\n",
      "market price 0.06597014216133942\n",
      "market cost 14540112629.40665\n",
      "cont cost 93543179220.0\n",
      "EP cost 129699950219.28796\n",
      "load 860019990394.7448\n",
      "Actual Total Energy Cost 108083291849.40665 C$\n",
      "Actual Retailer VC [0.13421463 0.1311245  0.12878853 ... 0.13288823 0.13271316 0.13328216] C$/kWh\n",
      "Actual Retailer FC 0.008221457596376465 C$/h\n",
      "Actual Transmission cost 0.042094 C$/kWh\n",
      "Actual Distribution cost 0.013033 C$/kWh\n",
      "Actual Municipal cost 0.017162 C$/kWh\n",
      "Actual Retailer Revenue 106462981665.45956 C$\n",
      "Actual Payment by Retailer for Injections 0.0 C$\n",
      "Actual Retailer Profit 0.0 C$\n"
     ]
    },
    {
     "name": "stderr",
     "output_type": "stream",
     "text": [
      "C:\\Users\\ASUS\\AppData\\Local\\Temp\\ipykernel_2844\\4275954818.py:350: FutureWarning: Calling float on a single element Series is deprecated and will raise a TypeError in the future. Use float(ser.iloc[0]) instead\n",
      "  Retailer_FC_actual[k]=Retaileractual.ret_fixed_cost_HH\n",
      "C:\\Users\\ASUS\\AppData\\Local\\Temp\\ipykernel_2844\\4275954818.py:393: FutureWarning: Calling float on a single element Series is deprecated and will raise a TypeError in the future. Use float(ser.iloc[0]) instead\n",
      "  Retailer_Revenue_Household_actual[k]=Actualbill[k].sum()*(households.sum(axis=1))\n"
     ]
    },
    {
     "name": "stdout",
     "output_type": "stream",
     "text": [
      "Retailer revenue total 149130458147.5788 C$\n",
      "Cost to DSO 17217026091.754337 C$\n",
      "Retailer Profit 21722302887.55781 C$\n",
      "   PV1  PV2  PV3  PV4  PV5\n",
      "0  0.8  1.6  0.0  2.4  1.2\n",
      "1  0.4  1.2  2.0  2.0  0.8\n",
      "2  0.0  0.0  0.0  0.0  0.0\n",
      "   Batt1  Batt2  Batt3  Batt4  Batt5\n",
      "0    0.0    0.0    0.0    0.0    0.0\n",
      "1    0.0    0.0    0.0    0.0    0.0\n",
      "2    0.0    0.0    0.0    0.0    0.0\n",
      "-------------------------------\n",
      "k= 2\n",
      "TotalLoad_h [25818.48957105]\n",
      "households.values.sum() 6785850.939441446\n",
      "(base.values.sum()*1000) 784322177212.7477\n",
      "Reductions in houseshold load [8.07252378e+10]\n",
      "Increased base load 84129261858.78253\n",
      "Total Grid Load for 15 years: [9.59522599e+11] kWh\n",
      "Total Res Load for 15 years: [1.75200422e+11] kWh\n",
      "Total Injection for 15 years: [-2.5836564e+10] kWh\n",
      "market load [3.14168255e+11]\n",
      "market price 0.06597014216133942\n",
      "market cost [1.89979096e+10]\n",
      "cont cost 93543179220.0\n",
      "EP cost [1.35049307e+11]\n",
      "load [9.33686035e+11]\n"
     ]
    },
    {
     "name": "stderr",
     "output_type": "stream",
     "text": [
      "C:\\Users\\ASUS\\AppData\\Local\\Temp\\ipykernel_2844\\4275954818.py:127: FutureWarning: Calling float on a single element Series is deprecated and will raise a TypeError in the future. Use float(ser.iloc[0]) instead\n",
      "  Retailer_FC[k]=Retailer.ret_fixed_cost_HH\n"
     ]
    },
    {
     "name": "stdout",
     "output_type": "stream",
     "text": [
      "Total Energy Cost 112541088822.40402 C$\n",
      "Retailer VC [0.1272417  0.12370524 0.12101923 ... 0.12578811 0.12560807 0.12627862] C$/kWh\n",
      "Retailer FC 0.00744642744674837 C$/h\n",
      "Transmission cost 0.042094 C$/kWh\n",
      "Distribution cost 0.013033 C$/kWh\n",
      "Municipal cost 0.017162 C$/kWh\n",
      "Retailer revenue 110440527839.12924 C$\n",
      "Payment by Retailer for Injections 0.0 C$\n",
      "Retailer Profit 0.0 C$\n",
      "households               0              1              2              3              4   \\\n",
      "0  392395.035193  400242.935897  408247.794615  416412.750507  424741.005517   \n",
      "\n",
      "              5             6              7              8              9   \\\n",
      "0  433235.825628  441900.54214  450738.552983  459753.324043  468948.390523   \n",
      "\n",
      "              10             11             12             13             14  \n",
      "0  478327.358334  487893.905501  497651.783611  507604.819283  517756.915668  \n"
     ]
    },
    {
     "name": "stderr",
     "output_type": "stream",
     "text": [
      "C:\\Users\\ASUS\\AppData\\Local\\Temp\\ipykernel_2844\\4275954818.py:159: FutureWarning: Calling float on a single element Series is deprecated and will raise a TypeError in the future. Use float(ser.iloc[0]) instead\n",
      "  Retailer_Revenue_Household[k]=Billexpected[k].sum()*(households.sum(axis=1))\n"
     ]
    },
    {
     "name": "stdout",
     "output_type": "stream",
     "text": [
      "Retailer revenue total 155637191685.05963 C$\n",
      "Cost to DSO 18374403261.638035 C$\n",
      "Retailer Profit 22613862282.157574 C$\n",
      "    PVSize  BattSize                                 Total_Cost\n",
      "0      2.0       2.0  0    4062.712184\n",
      "Name: 10, dtype: float64\n",
      "1      2.0       0.0  0    3200.526022\n",
      "Name: 10, dtype: float64\n",
      "2      2.0       0.0  0    3200.526022\n",
      "Name: 10, dtype: float64\n",
      "3      2.0       0.0  0    3200.526022\n",
      "Name: 10, dtype: float64\n",
      "4      0.8       2.0   0    2142.39657\n",
      "Name: 10, dtype: float64\n",
      "5      0.8       0.0  0    1280.210409\n",
      "Name: 10, dtype: float64\n",
      "6      0.8       0.0  0    1280.210409\n",
      "Name: 10, dtype: float64\n",
      "7      0.8       0.0  0    1280.210409\n",
      "Name: 10, dtype: float64\n",
      "8      0.4       2.0  0    1502.291366\n",
      "Name: 10, dtype: float64\n",
      "9      0.4       0.0   0    640.105204\n",
      "Name: 10, dtype: float64\n",
      "10     0.4       0.0   0    640.105204\n",
      "Name: 10, dtype: float64\n",
      "11     0.4       0.0   0    640.105204\n",
      "Name: 10, dtype: float64\n",
      "12     0.0       2.0   0    862.186161\n",
      "Name: 10, dtype: float64\n",
      "13     0.0       0.0          0    0.0\n",
      "Name: 10, dtype: float64\n",
      "14     0.0       0.0          0    0.0\n",
      "Name: 10, dtype: float64\n",
      "15     0.0       0.0          0    0.0\n",
      "Name: 10, dtype: float64\n"
     ]
    },
    {
     "name": "stderr",
     "output_type": "stream",
     "text": [
      "C:\\Users\\ASUS\\AppData\\Local\\Temp\\ipykernel_2844\\4275954818.py:221: FutureWarning: Calling float on a single element Series is deprecated and will raise a TypeError in the future. Use float(ser.iloc[0]) instead\n",
      "  SystemCost[i]=systemsize.df_combinations.iloc[i,2]\n"
     ]
    },
    {
     "name": "stdout",
     "output_type": "stream",
     "text": [
      "grid lcoe 0.274\n",
      "LCOE combinations [0.327 0.283 0.283 0.283 0.303 0.263 0.263 0.263 0.297 0.266 0.266 0.266\n",
      " 0.3   0.274 0.274 0.274]\n",
      "selected 0.263\n",
      "selected PV size 0.8\n",
      "selected Batt size 0.0\n",
      "    PVSize  BattSize                                 Total_Cost\n",
      "0      4.0       4.0  0    8125.424367\n",
      "Name: 10, dtype: float64\n",
      "1      4.0       2.0  0    7263.238206\n",
      "Name: 10, dtype: float64\n",
      "2      4.0       0.0  0    6401.052045\n",
      "Name: 10, dtype: float64\n",
      "3      4.0       0.0  0    6401.052045\n",
      "Name: 10, dtype: float64\n",
      "4      2.0       4.0  0    4924.898345\n",
      "Name: 10, dtype: float64\n",
      "5      2.0       2.0  0    4062.712184\n",
      "Name: 10, dtype: float64\n",
      "6      2.0       0.0  0    3200.526022\n",
      "Name: 10, dtype: float64\n",
      "7      2.0       0.0  0    3200.526022\n",
      "Name: 10, dtype: float64\n",
      "8      0.8       4.0  0    3004.582731\n",
      "Name: 10, dtype: float64\n",
      "9      0.8       2.0   0    2142.39657\n",
      "Name: 10, dtype: float64\n",
      "10     0.8       0.0  0    1280.210409\n",
      "Name: 10, dtype: float64\n",
      "11     0.8       0.0  0    1280.210409\n",
      "Name: 10, dtype: float64\n",
      "12     0.0       4.0  0    1724.372322\n",
      "Name: 10, dtype: float64\n",
      "13     0.0       2.0   0    862.186161\n",
      "Name: 10, dtype: float64\n",
      "14     0.0       0.0          0    0.0\n",
      "Name: 10, dtype: float64\n",
      "15     0.0       0.0          0    0.0\n",
      "Name: 10, dtype: float64\n"
     ]
    },
    {
     "name": "stderr",
     "output_type": "stream",
     "text": [
      "C:\\Users\\ASUS\\AppData\\Local\\Temp\\ipykernel_2844\\4275954818.py:221: FutureWarning: Calling float on a single element Series is deprecated and will raise a TypeError in the future. Use float(ser.iloc[0]) instead\n",
      "  SystemCost[i]=systemsize.df_combinations.iloc[i,2]\n"
     ]
    },
    {
     "name": "stdout",
     "output_type": "stream",
     "text": [
      "grid lcoe 0.237\n",
      "LCOE combinations [0.286 0.262 0.246 0.246 0.269 0.247 0.23  0.23  0.262 0.245 0.231 0.231\n",
      " 0.262 0.249 0.237 0.237]\n",
      "selected 0.23\n",
      "selected PV size 2.0\n",
      "selected Batt size 0.0\n",
      "    PVSize  BattSize                                  Total_Cost\n",
      "0      6.0       6.0  0    12188.136551\n",
      "Name: 10, dtype: float64\n",
      "1      6.0       2.0  0    10463.764228\n",
      "Name: 10, dtype: float64\n",
      "2      6.0       1.0  0    10032.671148\n",
      "Name: 10, dtype: float64\n",
      "3      6.0       0.0   0    9601.578067\n",
      "Name: 10, dtype: float64\n",
      "4      2.8       6.0   0    7067.294915\n",
      "Name: 10, dtype: float64\n",
      "5      2.8       2.0   0    5342.922593\n",
      "Name: 10, dtype: float64\n",
      "6      2.8       1.0   0    4911.829512\n",
      "Name: 10, dtype: float64\n",
      "7      2.8       0.0   0    4480.736431\n",
      "Name: 10, dtype: float64\n",
      "8      1.2       6.0   0    4506.874097\n",
      "Name: 10, dtype: float64\n",
      "9      1.2       2.0   0    2782.501775\n",
      "Name: 10, dtype: float64\n",
      "10     1.2       1.0   0    2351.408694\n",
      "Name: 10, dtype: float64\n",
      "11     1.2       0.0   0    1920.315613\n",
      "Name: 10, dtype: float64\n",
      "12     0.0       6.0   0    2586.558484\n",
      "Name: 10, dtype: float64\n",
      "13     0.0       2.0    0    862.186161\n",
      "Name: 10, dtype: float64\n",
      "14     0.0       1.0    0    431.093081\n",
      "Name: 10, dtype: float64\n",
      "15     0.0       0.0           0    0.0\n",
      "Name: 10, dtype: float64\n"
     ]
    },
    {
     "name": "stderr",
     "output_type": "stream",
     "text": [
      "C:\\Users\\ASUS\\AppData\\Local\\Temp\\ipykernel_2844\\4275954818.py:221: FutureWarning: Calling float on a single element Series is deprecated and will raise a TypeError in the future. Use float(ser.iloc[0]) instead\n",
      "  SystemCost[i]=systemsize.df_combinations.iloc[i,2]\n"
     ]
    },
    {
     "name": "stdout",
     "output_type": "stream",
     "text": [
      "grid lcoe 0.225\n",
      "LCOE combinations [0.299 0.26  0.252 0.25  0.272 0.237 0.229 0.225 0.261 0.232 0.225 0.22\n",
      " 0.257 0.235 0.23  0.226]\n",
      "selected 0.22\n",
      "selected PV size 1.2000000000000002\n",
      "selected Batt size 0.0\n",
      "    PVSize  BattSize                                  Total_Cost\n",
      "0      6.0       6.0  0    12188.136551\n",
      "Name: 10, dtype: float64\n",
      "1      6.0       2.0  0    10463.764228\n",
      "Name: 10, dtype: float64\n",
      "2      6.0       1.0  0    10032.671148\n",
      "Name: 10, dtype: float64\n",
      "3      6.0       0.0   0    9601.578067\n",
      "Name: 10, dtype: float64\n",
      "4      2.8       6.0   0    7067.294915\n",
      "Name: 10, dtype: float64\n",
      "5      2.8       2.0   0    5342.922593\n",
      "Name: 10, dtype: float64\n",
      "6      2.8       1.0   0    4911.829512\n",
      "Name: 10, dtype: float64\n",
      "7      2.8       0.0   0    4480.736431\n",
      "Name: 10, dtype: float64\n",
      "8      1.2       6.0   0    4506.874097\n",
      "Name: 10, dtype: float64\n",
      "9      1.2       2.0   0    2782.501775\n",
      "Name: 10, dtype: float64\n",
      "10     1.2       1.0   0    2351.408694\n",
      "Name: 10, dtype: float64\n",
      "11     1.2       0.0   0    1920.315613\n",
      "Name: 10, dtype: float64\n",
      "12     0.0       6.0   0    2586.558484\n",
      "Name: 10, dtype: float64\n",
      "13     0.0       2.0    0    862.186161\n",
      "Name: 10, dtype: float64\n",
      "14     0.0       1.0    0    431.093081\n",
      "Name: 10, dtype: float64\n",
      "15     0.0       0.0           0    0.0\n",
      "Name: 10, dtype: float64\n"
     ]
    },
    {
     "name": "stderr",
     "output_type": "stream",
     "text": [
      "C:\\Users\\ASUS\\AppData\\Local\\Temp\\ipykernel_2844\\4275954818.py:221: FutureWarning: Calling float on a single element Series is deprecated and will raise a TypeError in the future. Use float(ser.iloc[0]) instead\n",
      "  SystemCost[i]=systemsize.df_combinations.iloc[i,2]\n"
     ]
    },
    {
     "name": "stdout",
     "output_type": "stream",
     "text": [
      "grid lcoe 0.226\n",
      "LCOE combinations [0.27  0.241 0.235 0.234 0.254 0.228 0.223 0.22  0.248 0.228 0.224 0.221\n",
      " 0.251 0.234 0.229 0.227]\n",
      "selected 0.22\n",
      "selected PV size 2.8000000000000003\n",
      "selected Batt size 0.0\n",
      "    PVSize  BattSize                                 Total_Cost\n",
      "0      2.8       2.0  0    5342.922593\n",
      "Name: 10, dtype: float64\n",
      "1      2.8       1.0  0    4911.829512\n",
      "Name: 10, dtype: float64\n",
      "2      2.8       0.0  0    4480.736431\n",
      "Name: 10, dtype: float64\n",
      "3      2.8       0.0  0    4480.736431\n",
      "Name: 10, dtype: float64\n",
      "4      1.2       2.0  0    2782.501775\n",
      "Name: 10, dtype: float64\n",
      "5      1.2       1.0  0    2351.408694\n",
      "Name: 10, dtype: float64\n",
      "6      1.2       0.0  0    1920.315613\n",
      "Name: 10, dtype: float64\n",
      "7      1.2       0.0  0    1920.315613\n",
      "Name: 10, dtype: float64\n",
      "8      0.4       2.0  0    1502.291366\n",
      "Name: 10, dtype: float64\n",
      "9      0.4       1.0  0    1071.198285\n",
      "Name: 10, dtype: float64\n",
      "10     0.4       0.0   0    640.105204\n",
      "Name: 10, dtype: float64\n",
      "11     0.4       0.0   0    640.105204\n",
      "Name: 10, dtype: float64\n",
      "12     0.0       2.0   0    862.186161\n",
      "Name: 10, dtype: float64\n",
      "13     0.0       1.0   0    431.093081\n",
      "Name: 10, dtype: float64\n",
      "14     0.0       0.0          0    0.0\n",
      "Name: 10, dtype: float64\n",
      "15     0.0       0.0          0    0.0\n",
      "Name: 10, dtype: float64\n"
     ]
    },
    {
     "name": "stderr",
     "output_type": "stream",
     "text": [
      "C:\\Users\\ASUS\\AppData\\Local\\Temp\\ipykernel_2844\\4275954818.py:221: FutureWarning: Calling float on a single element Series is deprecated and will raise a TypeError in the future. Use float(ser.iloc[0]) instead\n",
      "  SystemCost[i]=systemsize.df_combinations.iloc[i,2]\n"
     ]
    },
    {
     "name": "stdout",
     "output_type": "stream",
     "text": [
      "grid lcoe 0.251\n",
      "LCOE combinations [0.282 0.265 0.255 0.255 0.266 0.251 0.241 0.241 0.266 0.254 0.245 0.245\n",
      " 0.268 0.259 0.251 0.251]\n",
      "selected 0.241\n",
      "selected PV size 1.2000000000000002\n",
      "selected Batt size 0.0\n",
      "Actual Annual Load: 946419520495.0968 kWh\n",
      "Actual Res Load: 162097343282.34912 kWh\n",
      "Actual Annual Injection: -73826771247.52876 kWh\n",
      "market load 282724232764.94995\n",
      "market price 0.06597014216133942\n",
      "market cost 16403757492.70625\n",
      "cont cost 93543179220.0\n",
      "EP cost 131936324055.2475\n",
      "load 872592749247.568\n",
      "Actual Total Energy Cost 109946936712.70625 C$\n",
      "Actual Retailer VC [0.1272417  0.12370524 0.12101923 ... 0.12578811 0.12560807 0.12627862] C$/kWh\n",
      "Actual Retailer FC 0.00744642744674837 C$/h\n",
      "Actual Transmission cost 0.042094 C$/kWh\n",
      "Actual Distribution cost 0.013033 C$/kWh\n",
      "Actual Municipal cost 0.017162 C$/kWh\n",
      "Actual Retailer Revenue 109256881249.07362 C$\n",
      "Actual Payment by Retailer for Injections 0.0 C$\n",
      "Actual Retailer Profit 0.0 C$\n"
     ]
    },
    {
     "name": "stderr",
     "output_type": "stream",
     "text": [
      "C:\\Users\\ASUS\\AppData\\Local\\Temp\\ipykernel_2844\\4275954818.py:350: FutureWarning: Calling float on a single element Series is deprecated and will raise a TypeError in the future. Use float(ser.iloc[0]) instead\n",
      "  Retailer_FC_actual[k]=Retaileractual.ret_fixed_cost_HH\n"
     ]
    },
    {
     "name": "stdout",
     "output_type": "stream",
     "text": [
      "Retailer revenue total 151577000716.91595 C$\n",
      "Cost to DSO 17427194825.13201 C$\n",
      "Retailer Profit 22095031860.21769 C$\n",
      "   PV1  PV2  PV3  PV4  PV5\n",
      "0  0.8  1.6  0.0  2.4  1.2\n",
      "1  0.4  1.2  2.0  2.0  0.8\n",
      "2  0.8  2.0  1.2  2.8  1.2\n",
      "   Batt1  Batt2  Batt3  Batt4  Batt5\n",
      "0    0.0    0.0    0.0    0.0    0.0\n",
      "1    0.0    0.0    0.0    0.0    0.0\n",
      "2    0.0    0.0    0.0    0.0    0.0\n",
      "-------------------------------\n"
     ]
    },
    {
     "name": "stderr",
     "output_type": "stream",
     "text": [
      "C:\\Users\\ASUS\\AppData\\Local\\Temp\\ipykernel_2844\\4275954818.py:393: FutureWarning: Calling float on a single element Series is deprecated and will raise a TypeError in the future. Use float(ser.iloc[0]) instead\n",
      "  Retailer_Revenue_Household_actual[k]=Actualbill[k].sum()*(households.sum(axis=1))\n"
     ]
    }
   ],
   "source": [
    "for k in range(0,kmax):\n",
    "    print('k=', k)\n",
    "    base=pd.DataFrame()\n",
    "    Phour=pd.DataFrame()\n",
    "    Pinj=pd.DataFrame()\n",
    "    cont_vol = pd.DataFrame()\n",
    "    WS_price = pd.DataFrame()\n",
    "    households = pd.DataFrame()\n",
    "    Phour2=pd.DataFrame()\n",
    "    Pinj2=pd.DataFrame()\n",
    "    \n",
    "    for y in range(yy,yyend):\n",
    "        ind=y-yy\n",
    "        base[ind] = baseload*(1+cagr)**(y)\n",
    "    \n",
    "    for y in range(yy,yyend):\n",
    "        ind=y-yy\n",
    "        households[ind] = [totalhouses*(1+cagrhouses)**(y)]\n",
    "        \n",
    "    WS_price1=(WSprice[(0*hours):(hours*15)]/1000)\n",
    "    WS_price = pd.DataFrame()\n",
    "    values_per_column = 8760\n",
    "    num_columns = 15\n",
    "    for i in range(num_columns):\n",
    "        start_idx = i * values_per_column\n",
    "        end_idx = (i + 1) * values_per_column\n",
    "        WS_price[i] = WS_price1[start_idx:end_idx].reset_index(drop=True)\n",
    "         \n",
    "    lcoeoffgrid = np.zeros(houses)\n",
    "    PV = np.zeros(houses)\n",
    "    Battery = np.zeros(houses)\n",
    "    \n",
    "    CustomerLoad0 = pd.DataFrame()\n",
    "    CustomerLoad1 = pd.DataFrame()\n",
    "    CustomerBatt1 = pd.DataFrame()\n",
    "    CustomerSOC1 = pd.DataFrame()\n",
    "    \n",
    "    Customerloadactual = np.zeros((hours,houses))\n",
    "    Customersocactual = np.zeros((hours+1,houses))\n",
    "    Customerbattactual = np.zeros((hours,houses))\n",
    "    CustomerLoadPVonlykactual = np.zeros((hours,houses))\n",
    "    Loadkminus1kactual = np.zeros((hours,houses))\n",
    "\n",
    "    ECurtail = np.zeros((houses,hours))\n",
    "    CustomerSOCOff = np.zeros((houses,hours+1))\n",
    "    CustomerbattOff = np.zeros((houses,hours))\n",
    "\n",
    "    BillPVCombinations = np.zeros((houses,16))\n",
    "    Billonlyk = np.zeros((houses,16))\n",
    "    Billkminus1k = np.zeros((houses,16))\n",
    "   \n",
    "    Dcharge = np.zeros((houses,16))\n",
    "    Echarge = np.zeros((houses,16))\n",
    "    \n",
    "    #EM with initial PV and Battery (Bill(k-1,k-2)) to get historic load estimate for retailer and DSO\n",
    "    for h in range(0,houses):\n",
    "        loads1 = []\n",
    "        batp1 = []\n",
    "        soc1 = []\n",
    "        PV[h]=(pvk[k-2,h] if k>=2 else 0) + (pvk[k-1,h] if k>=1 else 0)\n",
    "        Battery[h]=(battk[k-2,h] if k>=2 else 0) + (battk[k-1,h] if k>=1 else 0)\n",
    "        SOC=SOC_max if Battery[h]>0 else 0\n",
    "        soc1.append(SOC)\n",
    "        for t in range(0,hours): #8760\n",
    "            instance1 = Customer(Pd.iloc[h,t], PV[h], SOC, Battery[h], Retailer_VC[k,t], WS_price.iloc[t,10])\n",
    "            # , Retailer_VC[k,t], WS_price.iloc[t,8])\n",
    "            SOC=instance1.SOC2\n",
    "            loads1.append(instance1.Pgrid)\n",
    "            batp1.append(instance1.Pb)\n",
    "            soc1.append(instance1.SOC2)\n",
    "        column_name = f'House {h}'\n",
    "        \n",
    "        CustomerLoad1[column_name] = loads1\n",
    "        CustomerBatt1[column_name] = batp1\n",
    "    \n",
    "    Load1 = np.where(CustomerLoad1 >= 0, CustomerLoad1, 0)\n",
    "    Inj1 = np.where(CustomerLoad1 < 0, CustomerLoad1, 0)\n",
    "    TotalLoad_h = Load1.sum() #kWh\n",
    "    TotalInj_h = Inj1.sum() #kWh\n",
    "    HourlyLoad1_h = (Load1.sum(axis=1)) #kWh\n",
    "    HourlyInj1_h = Inj1.sum(axis=1)\n",
    "    HourlyLoad0 = pd.DataFrame(HourlyLoad1_h)\n",
    "    HourlyInj0 = pd.DataFrame(HourlyInj1_h)\n",
    "    # HourlyLoad1 = (HourlyLoad0*321900.6)+(base*1000) #kWh\n",
    "    # HourlyInj1 = HourlyInj0*321900.6\n",
    "    # cont_vol=contractsize[0]*1000\n",
    "\n",
    "    for y in range(yy,yyend):\n",
    "        ind=y-yy\n",
    "        cont_vol[ind]=contractsize[0]*1000 #kWh\n",
    "\n",
    "    for y in range(yy,yyend):\n",
    "        ind=y-yy\n",
    "        Phour[ind] = HourlyLoad0[0]*households.iloc[0,ind]\n",
    "    HourlyLoad1=(Phour)+(base*1000) #kWh\n",
    "    HourlyResLoad1=(Phour)\n",
    "\n",
    "    for y in range(yy,yyend):\n",
    "        ind=y-yy\n",
    "        Pinj[ind] = HourlyInj0[0]*households.iloc[0,ind]\n",
    "    HourlyInj1 = (Pinj) #kWh\n",
    "    \n",
    "    HourlyNet1=HourlyLoad1+HourlyInj1\n",
    "\n",
    "    TotalLoad1=(TotalLoad_h*households.values.sum())+(base.values.sum()*1000) #kWh\n",
    "    print('TotalLoad_h',TotalLoad_h)\n",
    "    print('households.values.sum()', households.values.sum())\n",
    "    print('(base.values.sum()*1000)',(base.values.sum()*1000))\n",
    "    Totalresload=(TotalLoad_h*households.values.sum()) #kWh\n",
    "    TotalInj1=(TotalInj_h*households.values.sum()) #kWh\n",
    "    \n",
    "    TotalNet1=TotalLoad1+TotalInj1\n",
    "    \n",
    "    print('Reductions in houseshold load', (Pd.sum()-HourlyLoad0[0]).sum()*households.values.sum())\n",
    "    a=base.sum()*1000\n",
    "    print('Increased base load', (a-a[0]).sum())\n",
    "    # print('Increased house load', )\n",
    "    print('Total Grid Load for 15 years:', TotalLoad1, 'kWh')\n",
    "    print('Total Res Load for 15 years:', Totalresload, 'kWh')\n",
    "    print('Total Injection for 15 years:', TotalInj1, 'kWh')\n",
    "\n",
    "    Distribution=Delivery_Costs(Totalresload,houses-hh)\n",
    "    Retailer = Energy_costs(TotalNet1,cont_vol,cont_price,WS_price,ret_margin_E,ret_margin_NE,risk_margin,admin_ch,fees,HourlyResLoad1,HourlyNet1,HourlyLoad1,HourlyInj1,houses-hh,Distribution.dist_var_cost_pu)\n",
    "    # Distribution=Delivery_Costs(TotalLoad1,houses-hh)\n",
    "    energycost[k]=Retailer.energy_proc_cost.sum()\n",
    "    Retailer_VC[k]=Retailer.Ret_Var_Cost_pu\n",
    "    Retailer_FC[k]=Retailer.ret_fixed_cost_HH\n",
    "    Retailer_Rev[k]=Retailer.ret_rev\n",
    "    ugenpayment[k]=Retailer.ret_ugen_payment #negative value\n",
    "    # profit[k]=Retailer_Rev[k]+ugenpayment[k]-energycost[k]\n",
    "    T_cost[k]=Distribution.T_cost\n",
    "    D_cost[k]=Distribution.D_cost\n",
    "    M_cost[k]=Distribution.M_cost\n",
    "    D_Fcost[k]=Distribution.dist_fixed_cost_HH\n",
    "    Retailer_Rev[k]=Retailer.ret_rev\n",
    "    DSO_charges[k]=Retailer.dsocharges\n",
    "    print('Total Energy Cost',energycost[k] ,'C$')\n",
    "    print(\"Retailer VC\", Retailer_VC[k], 'C$/kWh')\n",
    "    print(\"Retailer FC\", Retailer_FC[k], 'C$/h')\n",
    "    print(\"Transmission cost\", T_cost[k], 'C$/kWh')\n",
    "    print(\"Distribution cost\", D_cost[k], 'C$/kWh')\n",
    "    print(\"Municipal cost\", M_cost[k], 'C$/kWh')\n",
    "    print(\"Retailer revenue\", Retailer_Rev[k], 'C$')\n",
    "    print('Payment by Retailer for Injections', ugenpayment[k], 'C$')\n",
    "    print('Retailer Profit', profit[k], 'C$')\n",
    "    print('households',households)\n",
    "    \n",
    "#     # colors = px.colors.qualitative.Plotly\n",
    "#     # fig = go.Figure()\n",
    "#     # fig.add_traces(go.Scatter(y = HourlyLoad1, mode = 'lines', line=dict(color=colors[0]), name='Load'))\n",
    "#     # fig.add_traces(go.Scatter(y = Retailer_VC[k], mode = 'lines', line=dict(color=colors[0]), name='Retail Price'))\n",
    "#     # fig.update_layout(title='Base')\n",
    "#     # # pio.write_html(fig, 'Offgrid.html')\n",
    "#     # fig.show()\n",
    "    \n",
    "    for h in range(0,houses):\n",
    "        billexp = Bill(CustomerLoad1.iloc[:,h],Retailer_VC[k],Retailer_FC[k],T_cost[k],D_cost[k],M_cost[k],D_Fcost[k],h)\n",
    "        Billexpected[k,h] = billexp.electricity_bill\n",
    "    Retailer_Revenue_Household[k]=Billexpected[k].sum()*(households.sum(axis=1))\n",
    "    profit[k]=Retailer_Revenue_Household[k]+Retailer_Rev[k]-energycost[k]-DSO_charges[k]+ugenpayment[k]-admin_ch\n",
    "    print(\"Retailer revenue total\", Retailer_Revenue_Household[k]+Retailer_Rev[k], 'C$')\n",
    "    print('Cost to DSO', DSO_charges[k], 'C$')\n",
    "    print('Retailer Profit', profit[k], 'C$')\n",
    "\n",
    "    \n",
    "    \n",
    "    for h in range(0,houses):\n",
    "        billexp = Bill(CustomerLoad1.iloc[:,h],Retailer_VC[k],Retailer_FC[k],T_cost[k],D_cost[k],M_cost[k],D_Fcost[k],h)\n",
    "        Billexpected[k,h] = billexp.electricity_bill\n",
    "        loads0 = []\n",
    "        SOC0=0\n",
    "        batt0=0\n",
    "        for t in range(0,hours):\n",
    "            Generation0=0\n",
    "            instance0 = Customer(Pd.iloc[h,t],Generation0, SOC0, batt0, Retailer_VC[k,t], WS_price.iloc[t,10])\n",
    "            # , Retailer_VC[k,t], WS_price.iloc[t,8])\n",
    "            loads0.append(instance0.Pgrid)\n",
    "        column_name = f'House {h}'\n",
    "        CustomerLoad0[column_name] = loads0\n",
    "        bill0 = Bill(CustomerLoad0.iloc[:,h],Retailer_VC[k],Retailer_FC[k],T_cost[k],D_cost[k],M_cost[k],D_Fcost[k],h)\n",
    "        Bill0[k,h] = bill0.electricity_bill\n",
    "\n",
    "        systemsize=Systemsize(Pd.iloc[h,:].sum())\n",
    "        options=len(systemsize.df_combinations)\n",
    "        \n",
    "        #OFFGRID OPERATION\n",
    "        SOC=SOC_max #fully charged battery\n",
    "        PVSizeOff=systemsize.df_combinations.iloc[0,0]+PV[h]\n",
    "        BattSizeOff=systemsize.df_combinations.iloc[0,1]+Battery[h]\n",
    "        SystemCostOff=systemsize.df_combinations.iloc[0,2]\n",
    "        genoff=[]\n",
    "        curtailoff=[]\n",
    "        battoff=[]\n",
    "        CustomerSOCOff[h,0]=SOC_max if BattSizeOff>0 else 0\n",
    "        SOC=CustomerSOCOff[h,0]\n",
    "        for t in range(0,hours):\n",
    "            instanceOff = CustomerOffgrid(Pd.iloc[h,t], PVSizeOff, SOC, BattSizeOff)\n",
    "            SOC=instanceOff.SOC2 \n",
    "            CustomerSOCOff[h,t+1]=SOC\n",
    "            ECurtail[h,t]=instanceOff.Pcurtail\n",
    "            CustomerbattOff[h,t]=instanceOff.Pb \n",
    "\n",
    "        if all(x <= 0 for x in ECurtail[h]):\n",
    "            loff=LCOEoff(SystemCostOff)\n",
    "            lcoeoffgrid[h]=loff.lcoeoff\n",
    "        else:\n",
    "            lcoeoffgrid[h]=100  \n",
    " \n",
    "        # PV-Batt Combinations\n",
    "        #ONLY new options at k, no previous PV-Batt\n",
    "        if flags[h]==False:\n",
    "            CustomerLoadPVonlyk=np.zeros((hours,options))\n",
    "            CustomerSOCPVonlyk=np.zeros((hours+1,options))\n",
    "            CustomerBattPVonlyk=np.zeros((hours,options))\n",
    "            PVSizeonlyk=np.zeros(options)\n",
    "            BattSizeonlyk=np.zeros(options)\n",
    "            SystemCost=np.zeros(options)\n",
    "            for i in range (0,options):\n",
    "                PVSizeonlyk[i]=systemsize.df_combinations.iloc[i,0]\n",
    "                BattSizeonlyk[i]=systemsize.df_combinations.iloc[i,1]\n",
    "                SystemCost[i]=systemsize.df_combinations.iloc[i,2]\n",
    "                load3=[]\n",
    "                gen3=[]\n",
    "                soc3=[]\n",
    "                batt3=[]\n",
    "                CustomerSOCPVonlyk[0,i]=SOC_max if BattSizeonlyk[i]>0 else 0\n",
    "                SOC=CustomerSOCPVonlyk[0,i]\n",
    "                for t in range(0,hours):\n",
    "                    instance3 = Customer(Pd.iloc[h,t], PVSizeonlyk[i], SOC, BattSizeonlyk[i], Retailer_VC[k,t], WS_price.iloc[t,10])\n",
    "                    # , Retailer_VC[k,t], WS_price.iloc[t,8])\n",
    "                    SOC=instance3.SOC2\n",
    "                    CustomerLoadPVonlyk[t,i]=instance3.Pgrid\n",
    "                    CustomerSOCPVonlyk[t+1,i]=instance3.SOC2\n",
    "                    CustomerBattPVonlyk[t,i]=instance3.Pb\n",
    "                billonlyk=Bill(CustomerLoadPVonlyk[:,i],Retailer_VC[k],Retailer_FC[k],T_cost[k],D_cost[k],M_cost[k],D_Fcost[k],h)\n",
    "                Billonlyk[h,i]=billonlyk.electricity_bill\n",
    "\n",
    "            # PREVIOUS PV-BATT at k-1 and new options at k\n",
    "            Loadkminus1k=np.zeros((hours,options))\n",
    "            SOCkminus1k=np.zeros((hours+1,options))\n",
    "            Battkminus1k=np.zeros((hours,options))\n",
    "            PVSizekminus1k=np.zeros(options)\n",
    "            BattSizekminus1k=np.zeros(options)\n",
    "            for i in range (0,options):\n",
    "                PVSizekminus1k[i]=(systemsize.df_combinations.iloc[i,0]) + (pvk[k-1,h] if k>=1 else 0)\n",
    "                BattSizekminus1k[i]=(systemsize.df_combinations.iloc[i,1]) + (battk[k-1,h] if k>=1 else 0)\n",
    "                load4=[]\n",
    "                gen4=[]\n",
    "                soc4=[]\n",
    "                batt4=[]\n",
    "                SOCkminus1k[0,i]=SOC_max if BattSizekminus1k[i]>0 else 0\n",
    "                SOC=SOCkminus1k[0,i]\n",
    "                for t in range(0,hours):\n",
    "                    instance4 = Customer(Pd.iloc[h,t], PVSizekminus1k[i], SOC, BattSizekminus1k[i], Retailer_VC[k,t], WS_price.iloc[t,10])\n",
    "                    # , Retailer_VC[k,t], WS_price.iloc[t,8])\n",
    "                    SOC=instance4.SOC2\n",
    "                    Loadkminus1k[t,i]=instance4.Pgrid\n",
    "                    SOCkminus1k[t+1,i]=instance4.SOC2\n",
    "                    Battkminus1k[t,i]=instance4.Pb\n",
    "                billkminus1k=Bill(Loadkminus1k[:,i],Retailer_VC[k],Retailer_FC[k],T_cost[k],D_cost[k],M_cost[k],D_Fcost[k],h)\n",
    "                Billkminus1k[h,i]=billkminus1k.electricity_bill\n",
    "\n",
    "            # PREVIOUS PV-BATT at k-1, k-2, and new options at k\n",
    "            CustomerLoadPV=np.zeros((hours,options))\n",
    "            CustomerSOCPV=np.zeros((hours+1,options))\n",
    "            CustomerBattPV=np.zeros((hours,options))\n",
    "            PVSize=np.zeros(options)\n",
    "            BattSize=np.zeros(options)\n",
    "            for i in range (0,options):\n",
    "                PVSize[i]=systemsize.df_combinations.iloc[i,0]+PV[h]\n",
    "                BattSize[i]=systemsize.df_combinations.iloc[i,1]+Battery[h]\n",
    "                load2=[]\n",
    "                gen2=[]\n",
    "                soc2=[]\n",
    "                batt2=[]\n",
    "                CustomerSOCPV[0,i]=SOC_max if BattSize[i]>0 else 0\n",
    "                SOC=CustomerSOCPV[0,i]\n",
    "                for t in range(0,hours):\n",
    "                    instance2 = Customer(Pd.iloc[h,t], PVSize[i], SOC, BattSize[i], Retailer_VC[k,t], WS_price.iloc[t,10])\n",
    "                    # , Retailer_VC[k,t], WS_price.iloc[t,8])\n",
    "                    SOC=instance2.SOC2\n",
    "                    CustomerLoadPV[t,i]=instance2.Pgrid\n",
    "                    CustomerSOCPV[t+1,i]=instance2.SOC2\n",
    "                    CustomerBattPV[t,i]=instance2.Pb\n",
    "                bill=Bill(CustomerLoadPV[:,i],Retailer_VC[k],Retailer_FC[k],T_cost[k],D_cost[k],M_cost[k],D_Fcost[k],h)\n",
    "                BillPVCombinations[h,i]=bill.electricity_bill\n",
    "                Echarge[h,i]=bill.electricity_charges\n",
    "                Dcharge[h,i]=bill.delivery_charges\n",
    "\n",
    "            PVSizedecision=np.append(systemsize.df_combinations.iloc[:,0].values,PVSizeOff)\n",
    "            BattSizedecision=np.append(systemsize.df_combinations.iloc[:,1], BattSizeOff)\n",
    "            SystemCost=np.append(SystemCost,SystemCostOff)\n",
    "\n",
    "            decision=Decision(BillPVCombinations[h],PVSizedecision,BattSizedecision,SystemCost,lcoeoffgrid[h]) #change name to lcoe\n",
    "\n",
    "            ind=decision.index\n",
    "            battk[k,h]=decision.SelectedBatt\n",
    "            pvk[k,h]=decision.Selected_PV\n",
    "            Inv[k,h]=SystemCost[ind]\n",
    "\n",
    "            if ind==options:\n",
    "                hh=hh+1\n",
    "                flags[h] = True  # Set the flag to True for the houses that go off-grid\n",
    "                Customerloadactual[:,h]==np.zeros(hours)\n",
    "            else:\n",
    "                Customerloadactual[:,h]=CustomerLoadPV[:,ind]\n",
    "            Customerbattactual[:,h]=CustomerBattPV[:,ind]\n",
    "            Customersocactual[:,h]=CustomerSOCPV[:,ind]\n",
    "            Loadkminus1kactual[:,h]=Loadkminus1k[:,ind]\n",
    "            CustomerLoadPVonlykactual[:,h]=CustomerLoadPVonlyk[:,ind]\n",
    "            # Billexpected[k,h]=Billkminus1k[h,ind]\n",
    "\n",
    "    Load2 = np.where(Customerloadactual >= 0, Customerloadactual, 0)\n",
    "    Inj2 = np.where(Customerloadactual < 0, Customerloadactual, 0)\n",
    "    TotalLoad2_h = Load2.sum() #kWh\n",
    "    TotalInj2_h = Inj2.sum() #kWh\n",
    "    HourlyLoad2_h = (Load2.sum(axis=1)) #kWh\n",
    "    HourlyInj2_h = (Inj2.sum(axis=1)) #kWh\n",
    "    HourlyLoad20 = pd.DataFrame(HourlyLoad2_h)\n",
    "    HourlyInj20 = pd.DataFrame(HourlyInj2_h)\n",
    "    \n",
    "    for y in range(yy,yyend):\n",
    "        ind=y-yy\n",
    "        Phour2[ind] = HourlyLoad20[0]*households.iloc[0,ind]\n",
    "    HourlyLoad2=(Phour2)+(base*1000) #kWh\n",
    "    HourlyResLoad2=(Phour2)\n",
    "\n",
    "    for y in range(yy,yyend):\n",
    "        ind=y-yy\n",
    "        Pinj2[ind] = HourlyInj20[0]*households.iloc[0,ind]\n",
    "    HourlyInj2 = (Pinj2) #kWh\n",
    "    \n",
    "    HourlyNet2=HourlyLoad2+HourlyInj2\n",
    "    \n",
    "    TotalLoad2=(TotalLoad2_h*households.values.sum())+(base.values.sum()*1000) #kWh\n",
    "    Totalresload2=(TotalLoad2_h*households.values.sum()) #kWh\n",
    "    TotalInj2=(TotalInj2_h*households.values.sum()) #kWh\n",
    "    \n",
    "    TotalNet2=TotalLoad2+TotalInj2\n",
    "    \n",
    "    print('Actual Annual Load:',TotalLoad2, 'kWh')\n",
    "    print('Actual Res Load:',Totalresload2, 'kWh')\n",
    "    print('Actual Annual Injection:', TotalInj2, 'kWh')\n",
    "    \n",
    "    Distributionactual=Delivery_Costs(Totalresload2,houses-hh)\n",
    "    Retaileractual=Energy_costs(TotalNet2,cont_vol,cont_price,WS_price,ret_margin_E,ret_margin_NE,risk_margin,admin_ch,fees,HourlyResLoad2,HourlyNet2,HourlyLoad2,HourlyInj2,houses-hh,Distributionactual.dist_var_cost_pu)\n",
    "    # Distributionactual=Delivery_Costs(TotalLoad2,houses-hh)\n",
    "    energycostactual[k]=Retaileractual.energy_proc_cost.sum()\n",
    "    Retailer_VC_actual[k]=Retaileractual.Ret_Var_Cost_pu\n",
    "    Retailer_FC_actual[k]=Retaileractual.ret_fixed_cost_HH\n",
    "    # Retailer_Rev_actual[k]=Retaileractual.ret_rev\n",
    "    ugenpaymentactual[k]=Retaileractual.ret_ugen_payment\n",
    "    # actualprofit[k]=Retailer_Rev_actual[k]+ugenpaymentactual[k]-energycostactual[k]\n",
    "    Retailer_Rev_actual[k]=Retaileractual.ret_rev\n",
    "    DSO_charges_actual[k]=Retaileractual.dsocharges\n",
    "    Retailer_VC[k+1]=Retaileractual.Ret_Var_Cost_pu\n",
    "    T_cost_actual[k]=Distributionactual.T_cost\n",
    "    D_cost_actual[k]=Distributionactual.D_cost\n",
    "    M_cost_actual[k]=Distributionactual.M_cost\n",
    "    D_Fcost_actual[k]=Distributionactual.dist_fixed_cost_HH\n",
    "    print('Actual Total Energy Cost',energycostactual[k] ,'C$')\n",
    "    print(\"Actual Retailer VC\", Retailer_VC_actual[k], 'C$/kWh')\n",
    "    print(\"Actual Retailer FC\", Retailer_FC_actual[k], 'C$/h')\n",
    "    print(\"Actual Transmission cost\", T_cost_actual[k], 'C$/kWh')\n",
    "    print(\"Actual Distribution cost\", D_cost_actual[k], 'C$/kWh')\n",
    "    print(\"Actual Municipal cost\", M_cost_actual[k], 'C$/kWh')\n",
    "    print('Actual Retailer Revenue', Retailer_Rev_actual[k], 'C$')\n",
    "    print('Actual Payment by Retailer for Injections', ugenpaymentactual[k], 'C$')\n",
    "    print('Actual Retailer Profit', actualprofit[k], 'C$')\n",
    "    \n",
    "#     fig = go.Figure()\n",
    "#     fig.add_traces(go.Scatter(y = HourlyLoad2, mode = 'lines', line=dict(color=colors[0]), name='Load'))\n",
    "#     fig.add_traces(go.Scatter(y = Retailer_VC_actual[k], mode = 'lines', line=dict(color=colors[1]), name='Retail Price'))\n",
    "#     fig.update_layout(title='Actual')\n",
    "    \n",
    "#         # pio.write_html(fig, 'Offgrid.html')\n",
    "    \n",
    "# BILL WITH investment at k-2,k-1,k\n",
    "    for h in range(0,houses):\n",
    "        if flags[h]==False:\n",
    "            bill_actual=Bill(Customerloadactual[:,h],Retailer_VC_actual[k],Retailer_FC_actual[k],T_cost_actual[k],D_cost_actual[k],M_cost_actual[k],D_Fcost_actual[k],h)\n",
    "            Actualbill[k,h]=bill_actual.electricity_bill #total bill of each house\n",
    "\n",
    "            bill_actual_kminus1k=Bill(Loadkminus1kactual[:,h],Retailer_VC_actual[k],Retailer_FC_actual[k],T_cost_actual[k],D_cost_actual[k],M_cost_actual[k],D_Fcost_actual[k],h)\n",
    "            Actualbillkminus1k[k,h]=bill_actual_kminus1k.electricity_bill\n",
    "\n",
    "            bill_actual_onlyk=Bill(CustomerLoadPVonlykactual[:,h],Retailer_VC_actual[k],Retailer_FC_actual[k],T_cost_actual[k],D_cost_actual[k],M_cost_actual[k],D_Fcost_actual[k],h)\n",
    "            Actualbillonlyk[k,h]=bill_actual_onlyk.electricity_bill       \n",
    "\n",
    "            bill0actual = Bill(CustomerLoad0.iloc[:,h],Retailer_VC[k],Retailer_FC[k],T_cost[k],D_cost[k],M_cost[k],D_Fcost[k],h)\n",
    "            Actualbill0[k,h] = bill0actual.electricity_bill\n",
    "            \n",
    "    Retailer_Revenue_Household_actual[k]=Actualbill[k].sum()*(households.sum(axis=1))\n",
    "    actualprofit[k]=Retailer_Revenue_Household_actual[k]+Retailer_Rev_actual[k]-energycostactual[k]-DSO_charges_actual[k]+ugenpaymentactual[k]-admin_ch\n",
    "    print(\"Retailer revenue total\", Retailer_Revenue_Household_actual[k]+Retailer_Rev_actual[k], 'C$')\n",
    "    print('Cost to DSO', DSO_charges_actual[k], 'C$')\n",
    "    print('Retailer Profit', actualprofit[k], 'C$')\n",
    "            \n",
    "    dfpv = pd.DataFrame({f'PV{j+1}': pvk[:, j] for j in range(pvk.shape[1])})\n",
    "    dfb = pd.DataFrame({f'Batt{j+1}': battk[:, j] for j in range(battk.shape[1])})\n",
    "    print(dfpv)\n",
    "    print(dfb)\n",
    "    print(\"-------------------------------\")\n",
    "    yy=yy+5\n",
    "    yyend=yyend+5"
   ]
  },
  {
   "cell_type": "code",
   "execution_count": 48,
   "id": "b12d790e-7979-4dbb-9763-a2ab51f34736",
   "metadata": {},
   "outputs": [
    {
     "data": {
      "text/plain": [
       "array([ 64.1155442 , 114.08223483, 159.76704849, 171.19207579,\n",
       "        84.23573757])"
      ]
     },
     "execution_count": 48,
     "metadata": {},
     "output_type": "execute_result"
    }
   ],
   "source": [
    "Actualbill.sum(axis=0)*5/(15*12)"
   ]
  },
  {
   "cell_type": "code",
   "execution_count": 49,
   "id": "114ab16d-97b6-4a85-8a63-dd6e723e6c58",
   "metadata": {},
   "outputs": [
    {
     "data": {
      "text/plain": [
       "array([0.14486067, 0.14565973, 0.14576771])"
      ]
     },
     "execution_count": 49,
     "metadata": {},
     "output_type": "execute_result"
    }
   ],
   "source": [
    "actualprofit/(Retailer_Revenue_Household_actual+Retailer_Rev_actual)"
   ]
  },
  {
   "cell_type": "code",
   "execution_count": 50,
   "id": "217c16e1-6c61-48cf-a3e3-232fbd105473",
   "metadata": {},
   "outputs": [
    {
     "data": {
      "text/plain": [
       "array([[ 852.34691558, 1546.12256094, 2312.3305149 , 2328.74248586,\n",
       "        1143.92687205],\n",
       "       [ 767.28689883, 1352.23126768, 1803.41093572, 2019.72627679,\n",
       "         999.4867525 ],\n",
       "       [ 688.52577681, 1208.6066251 , 1635.87229518, 1814.44596585,\n",
       "         889.07292792]])"
      ]
     },
     "execution_count": 50,
     "metadata": {},
     "output_type": "execute_result"
    }
   ],
   "source": [
    "Actualbill"
   ]
  },
  {
   "cell_type": "code",
   "execution_count": 51,
   "id": "0b71a2ce-3c4f-429a-824c-cab76b7d3783",
   "metadata": {},
   "outputs": [
    {
     "data": {
      "text/plain": [
       "0    65.230704\n",
       "dtype: float64"
      ]
     },
     "execution_count": 51,
     "metadata": {},
     "output_type": "execute_result"
    }
   ],
   "source": [
    "Retailer.ret_fixed_cost/(5*households.sum(axis=1))"
   ]
  },
  {
   "cell_type": "code",
   "execution_count": 52,
   "id": "a298ec8f-1dc2-483b-8c73-31c742e1e103",
   "metadata": {},
   "outputs": [
    {
     "data": {
      "text/plain": [
       "5709339976.594275"
      ]
     },
     "execution_count": 52,
     "metadata": {},
     "output_type": "execute_result"
    }
   ],
   "source": [
    "Fixed_connection_charges"
   ]
  },
  {
   "cell_type": "code",
   "execution_count": 53,
   "id": "ad75899d-5c94-401b-8e38-1e2faffadfbd",
   "metadata": {},
   "outputs": [
    {
     "data": {
      "text/plain": [
       "11717854848.537737"
      ]
     },
     "execution_count": 53,
     "metadata": {},
     "output_type": "execute_result"
    }
   ],
   "source": [
    "((Distribution.dist_var_cost_pu)*Retaileractual.resload.sum(axis=1)).sum()"
   ]
  },
  {
   "cell_type": "code",
   "execution_count": 54,
   "id": "c8689ac8-6381-4d13-bf2c-34e1a89e3904",
   "metadata": {},
   "outputs": [
    {
     "data": {
      "text/plain": [
       "array([1.77809435e+10, 1.72170261e+10, 1.74271948e+10])"
      ]
     },
     "execution_count": 54,
     "metadata": {},
     "output_type": "execute_result"
    }
   ],
   "source": [
    "DSO_charges_actual"
   ]
  },
  {
   "cell_type": "code",
   "execution_count": 55,
   "id": "6f589992-69fb-4577-8cdd-68e0bca7a0d9",
   "metadata": {},
   "outputs": [],
   "source": [
    "# # simple_array = [element[0] for element in HourlyLoad1]\n",
    "# import datetime\n",
    "# colors = px.colors.qualitative.Plotly\n",
    "# fig = go.Figure()\n",
    "# # # start_date = datetime.datetime(2012, 1, 1, 23)\n",
    "# # # end_date = datetime.datetime(2022, 12, 31, 23)\n",
    "# # # date_rng = pd.date_range(start=start_date, end=end_date, freq='H')\n",
    "# # # timestamps = [datetime.datetime(2000, 1, 1, i) for i in range(0,23) ] * 365 * 20  # Repeated for 20 years\n",
    "\n",
    "# # fig.add_traces(go.Scatter(y = HourlyLoad2[0]*(0.0000001), mode = 'lines', line=dict(color=colors[3]), name='Load'))\n",
    "# # fig.add_traces(go.Scatter(y = Retaileractual.energy_proc_cost.astype(int)/10000000, mode = 'lines', line=dict(color=colors[4]), name='cost'))\n",
    "# # fig.add_traces(go.Scatter(y = WS_price/1000, mode = 'lines', line=dict(color=colors[2]), name='MSP'))\n",
    "# fig.add_traces(go.Scatter(y = Retailer_VC_actual[1], mode = 'lines', line=dict(color=colors[1]), name='Retail Price Actual k = 0'))\n",
    "# fig.add_traces(go.Scatter(y = Retailer_VC[1], mode = 'lines', line=dict(color=colors[0]), name='Retail Price Base'))\n",
    "# # fig.add_traces(go.Scatter(y = Retailer_VC_actual[1], mode = 'lines', line=dict(color=colors[2]), name='Retail Price Actual k = 1'))\n",
    "# # fig.add_traces(go.Scatter(y = Retailer_VC_actual[2], mode = 'lines', line=dict(color=colors[3]), name='Retail Price Actual k = 2'))\n",
    "\n",
    "# # fig.add_traces(go.Scatter(y = Retailer_VC_actual[0], mode = 'lines', line=dict(color=colors[0]), name='Retail Price Actual'))\n",
    "\n",
    "# # fig.update_layout(title='Market Settlement Price ($/MWh)')\n",
    "# # fig.update_xaxes(title_text='Date', tickformat='%Y-%m-%d')\n",
    "# # fig.update_yaxes(title_text=\"Price\") # Y-axis label\n",
    "# # # pio.write_html(fig, 'Prices2.html')\n",
    "# # # fig.show()\n",
    "              \n"
   ]
  },
  {
   "cell_type": "code",
   "execution_count": 56,
   "id": "17031c2d-b1d2-4cd0-9b52-b87a505603ba",
   "metadata": {},
   "outputs": [
    {
     "data": {
      "text/plain": [
       "array([ 64.1155442 , 114.08223483, 159.76704849, 171.19207579,\n",
       "        84.23573757])"
      ]
     },
     "execution_count": 56,
     "metadata": {},
     "output_type": "execute_result"
    }
   ],
   "source": [
    "Actualbill.sum(axis=0)*5/(15*12)"
   ]
  },
  {
   "cell_type": "code",
   "execution_count": 57,
   "id": "b6638255-ab84-4070-ae55-eb0b12bf32a6",
   "metadata": {},
   "outputs": [
    {
     "data": {
      "text/plain": [
       "array([[1073.85008594, 1995.34509106, 2371.71984306, 3009.73124495,\n",
       "        1481.57275779],\n",
       "       [ 806.4379338 , 1476.7687196 , 2223.49077619, 2234.54444195,\n",
       "        1088.94285536],\n",
       "       [ 728.18025141, 1296.11721937, 1736.27572139, 1945.97657345,\n",
       "         953.87709158]])"
      ]
     },
     "execution_count": 57,
     "metadata": {},
     "output_type": "execute_result"
    }
   ],
   "source": [
    "Billexpected"
   ]
  },
  {
   "cell_type": "code",
   "execution_count": 58,
   "id": "70b69886-5b88-4193-987e-244fa547c189",
   "metadata": {},
   "outputs": [
    {
     "name": "stdout",
     "output_type": "stream",
     "text": [
      "[[28.17463833 64.83386004 35.31063686 97.93694172 44.72617917]]\n"
     ]
    }
   ],
   "source": [
    "MonthInv=np.zeros((1,5))\n",
    "MonthInv2=Inv\n",
    "for h in range(0,5):\n",
    "    MonthInv[0,h]=(Inv[0,h]+Inv[1,h]+Inv[2,h])/(15*12)\n",
    "print(MonthInv)"
   ]
  },
  {
   "cell_type": "code",
   "execution_count": 59,
   "id": "7ea896af-f776-4e89-bc56-fd824c24491b",
   "metadata": {},
   "outputs": [
    {
     "data": {
      "text/plain": [
       "0.15286306822629014"
      ]
     },
     "execution_count": 59,
     "metadata": {},
     "output_type": "execute_result"
    }
   ],
   "source": [
    "np.average(Retailer_VC_actual[0])"
   ]
  },
  {
   "cell_type": "code",
   "execution_count": 60,
   "id": "3780f776-e8b1-4775-910b-62d47ae589d3",
   "metadata": {},
   "outputs": [
    {
     "data": {
      "text/plain": [
       "0.14683296541936067"
      ]
     },
     "execution_count": 60,
     "metadata": {},
     "output_type": "execute_result"
    }
   ],
   "source": [
    "np.average(Retailer_VC_actual[1])"
   ]
  },
  {
   "cell_type": "code",
   "execution_count": 61,
   "id": "877f3fcf-2f27-402e-a415-401a865c7648",
   "metadata": {},
   "outputs": [
    {
     "data": {
      "text/plain": [
       "0.13939280846069713"
      ]
     },
     "execution_count": 61,
     "metadata": {},
     "output_type": "execute_result"
    }
   ],
   "source": [
    "np.average(Retailer_VC_actual[2])"
   ]
  },
  {
   "cell_type": "code",
   "execution_count": 62,
   "id": "582c0fe7-2f46-4c1d-b85b-9050a73e2044",
   "metadata": {},
   "outputs": [
    {
     "data": {
      "text/plain": [
       "array([25818.48957105])"
      ]
     },
     "execution_count": 62,
     "metadata": {},
     "output_type": "execute_result"
    }
   ],
   "source": [
    "TotalLoad_h"
   ]
  },
  {
   "cell_type": "code",
   "execution_count": 63,
   "id": "0282805e-7f5f-4154-891f-16d426c336bd",
   "metadata": {},
   "outputs": [
    {
     "data": {
      "text/plain": [
       "array([3.90024577e+10])"
      ]
     },
     "execution_count": 63,
     "metadata": {},
     "output_type": "execute_result"
    }
   ],
   "source": [
    "(HourlyResLoad1.sum(axis=1)*(Distribution.T_cost+Distribution.D_cost+Distribution.M_cost+Retailer_VC[0])).sum()"
   ]
  },
  {
   "cell_type": "code",
   "execution_count": 64,
   "id": "100bb593-a962-4851-bbeb-3f071894d35e",
   "metadata": {},
   "outputs": [
    {
     "data": {
      "text/plain": [
       "0        [30484738.78462761]\n",
       "1        [27954037.23590537]\n",
       "2       [27731224.139243808]\n",
       "3       [27935793.021002665]\n",
       "4       [28592412.349385098]\n",
       "                ...         \n",
       "8755     [51697233.24729967]\n",
       "8756     [49223444.67112163]\n",
       "8757      [45018129.2668183]\n",
       "8758     [36958595.28468447]\n",
       "8759     [30035115.33830766]\n",
       "Length: 8760, dtype: object"
      ]
     },
     "execution_count": 64,
     "metadata": {},
     "output_type": "execute_result"
    }
   ],
   "source": [
    "HourlyResLoad1.sum(axis=1)"
   ]
  },
  {
   "cell_type": "code",
   "execution_count": 65,
   "id": "9674b0de-3840-46fb-b5f3-8ed2b2f00c9f",
   "metadata": {},
   "outputs": [
    {
     "data": {
      "text/plain": [
       "0.07228899999999999"
      ]
     },
     "execution_count": 65,
     "metadata": {},
     "output_type": "execute_result"
    }
   ],
   "source": [
    "Distributionactual.dist_var_cost_pu"
   ]
  },
  {
   "cell_type": "code",
   "execution_count": 66,
   "id": "58c509f0-879c-4e95-8cdc-6bfae272e60f",
   "metadata": {},
   "outputs": [
    {
     "data": {
      "text/plain": [
       "0    0.019209\n",
       "dtype: float64"
      ]
     },
     "execution_count": 66,
     "metadata": {},
     "output_type": "execute_result"
    }
   ],
   "source": [
    "Fixed_connection_charges/(5*8760*households.sum(axis=1))"
   ]
  },
  {
   "cell_type": "code",
   "execution_count": 67,
   "id": "394fb475-23b5-43d9-9cb9-e0afd6c89d12",
   "metadata": {},
   "outputs": [
    {
     "data": {
      "text/plain": [
       "0    0.007446\n",
       "dtype: float64"
      ]
     },
     "execution_count": 67,
     "metadata": {},
     "output_type": "execute_result"
    }
   ],
   "source": [
    "Retailer.ret_fixed_cost/(5*8760*households.sum(axis=1))"
   ]
  },
  {
   "cell_type": "code",
   "execution_count": 68,
   "id": "f167a2d1-cad7-4a3d-9f4b-287d087c5be9",
   "metadata": {},
   "outputs": [
    {
     "data": {
      "text/plain": [
       "54934112689.66243"
      ]
     },
     "execution_count": 68,
     "metadata": {},
     "output_type": "execute_result"
    }
   ],
   "source": [
    "2213229184.803+5709339976.594275+47011543528.26515"
   ]
  },
  {
   "cell_type": "code",
   "execution_count": 69,
   "id": "9ed46a7d-009f-4412-9a75-b62d20ea3c20",
   "metadata": {},
   "outputs": [],
   "source": [
    "csv_file_path = 'O3.csv'  # Specify the file path where you want to save the CSV file\n",
    "a.to_csv(csv_file_path, index=False)  # Set index=False to exclude the DataFrame index from the CSV file"
   ]
  },
  {
   "cell_type": "code",
   "execution_count": 70,
   "id": "eea1aa58-bdfa-4e93-934f-d1383f256ac4",
   "metadata": {},
   "outputs": [
    {
     "ename": "ValueError",
     "evalue": "Must pass 2-d input. shape=(10, 8760, 1)",
     "output_type": "error",
     "traceback": [
      "\u001b[1;31m---------------------------------------------------------------------------\u001b[0m",
      "\u001b[1;31mValueError\u001b[0m                                Traceback (most recent call last)",
      "Cell \u001b[1;32mIn[70], line 15\u001b[0m\n\u001b[0;32m     12\u001b[0m new_data \u001b[38;5;241m=\u001b[39m np\u001b[38;5;241m.\u001b[39marray_split(df, num_new_columns)\n\u001b[0;32m     14\u001b[0m \u001b[38;5;66;03m# Create a new DataFrame with the reshaped data\u001b[39;00m\n\u001b[1;32m---> 15\u001b[0m new_df \u001b[38;5;241m=\u001b[39m pd\u001b[38;5;241m.\u001b[39mDataFrame(new_data)\n\u001b[0;32m     17\u001b[0m \u001b[38;5;66;03m# Transpose the new DataFrame to have values in separate columns\u001b[39;00m\n\u001b[0;32m     18\u001b[0m new_df \u001b[38;5;241m=\u001b[39m new_df\u001b[38;5;241m.\u001b[39mT\n",
      "File \u001b[1;32md:\\Anaconda\\Lib\\site-packages\\pandas\\core\\frame.py:798\u001b[0m, in \u001b[0;36mDataFrame.__init__\u001b[1;34m(self, data, index, columns, dtype, copy)\u001b[0m\n\u001b[0;32m    790\u001b[0m         mgr \u001b[38;5;241m=\u001b[39m arrays_to_mgr(\n\u001b[0;32m    791\u001b[0m             arrays,\n\u001b[0;32m    792\u001b[0m             columns,\n\u001b[1;32m   (...)\u001b[0m\n\u001b[0;32m    795\u001b[0m             typ\u001b[38;5;241m=\u001b[39mmanager,\n\u001b[0;32m    796\u001b[0m         )\n\u001b[0;32m    797\u001b[0m     \u001b[38;5;28;01melse\u001b[39;00m:\n\u001b[1;32m--> 798\u001b[0m         mgr \u001b[38;5;241m=\u001b[39m ndarray_to_mgr(\n\u001b[0;32m    799\u001b[0m             data,\n\u001b[0;32m    800\u001b[0m             index,\n\u001b[0;32m    801\u001b[0m             columns,\n\u001b[0;32m    802\u001b[0m             dtype\u001b[38;5;241m=\u001b[39mdtype,\n\u001b[0;32m    803\u001b[0m             copy\u001b[38;5;241m=\u001b[39mcopy,\n\u001b[0;32m    804\u001b[0m             typ\u001b[38;5;241m=\u001b[39mmanager,\n\u001b[0;32m    805\u001b[0m         )\n\u001b[0;32m    806\u001b[0m \u001b[38;5;28;01melse\u001b[39;00m:\n\u001b[0;32m    807\u001b[0m     mgr \u001b[38;5;241m=\u001b[39m dict_to_mgr(\n\u001b[0;32m    808\u001b[0m         {},\n\u001b[0;32m    809\u001b[0m         index,\n\u001b[1;32m   (...)\u001b[0m\n\u001b[0;32m    812\u001b[0m         typ\u001b[38;5;241m=\u001b[39mmanager,\n\u001b[0;32m    813\u001b[0m     )\n",
      "File \u001b[1;32md:\\Anaconda\\Lib\\site-packages\\pandas\\core\\internals\\construction.py:320\u001b[0m, in \u001b[0;36mndarray_to_mgr\u001b[1;34m(values, index, columns, dtype, copy, typ)\u001b[0m\n\u001b[0;32m    315\u001b[0m     values \u001b[38;5;241m=\u001b[39m _ensure_2d(values)\n\u001b[0;32m    317\u001b[0m \u001b[38;5;28;01melse\u001b[39;00m:\n\u001b[0;32m    318\u001b[0m     \u001b[38;5;66;03m# by definition an array here\u001b[39;00m\n\u001b[0;32m    319\u001b[0m     \u001b[38;5;66;03m# the dtypes will be coerced to a single dtype\u001b[39;00m\n\u001b[1;32m--> 320\u001b[0m     values \u001b[38;5;241m=\u001b[39m _prep_ndarraylike(values, copy\u001b[38;5;241m=\u001b[39mcopy_on_sanitize)\n\u001b[0;32m    322\u001b[0m \u001b[38;5;28;01mif\u001b[39;00m dtype \u001b[38;5;129;01mis\u001b[39;00m \u001b[38;5;129;01mnot\u001b[39;00m \u001b[38;5;28;01mNone\u001b[39;00m \u001b[38;5;129;01mand\u001b[39;00m \u001b[38;5;129;01mnot\u001b[39;00m is_dtype_equal(values\u001b[38;5;241m.\u001b[39mdtype, dtype):\n\u001b[0;32m    323\u001b[0m     \u001b[38;5;66;03m# GH#40110 see similar check inside sanitize_array\u001b[39;00m\n\u001b[0;32m    324\u001b[0m     values \u001b[38;5;241m=\u001b[39m sanitize_array(\n\u001b[0;32m    325\u001b[0m         values,\n\u001b[0;32m    326\u001b[0m         \u001b[38;5;28;01mNone\u001b[39;00m,\n\u001b[1;32m   (...)\u001b[0m\n\u001b[0;32m    329\u001b[0m         allow_2d\u001b[38;5;241m=\u001b[39m\u001b[38;5;28;01mTrue\u001b[39;00m,\n\u001b[0;32m    330\u001b[0m     )\n",
      "File \u001b[1;32md:\\Anaconda\\Lib\\site-packages\\pandas\\core\\internals\\construction.py:560\u001b[0m, in \u001b[0;36m_prep_ndarraylike\u001b[1;34m(values, copy)\u001b[0m\n\u001b[0;32m    557\u001b[0m \u001b[38;5;28;01melse\u001b[39;00m:\n\u001b[0;32m    558\u001b[0m     values \u001b[38;5;241m=\u001b[39m convert(values)\n\u001b[1;32m--> 560\u001b[0m \u001b[38;5;28;01mreturn\u001b[39;00m _ensure_2d(values)\n",
      "File \u001b[1;32md:\\Anaconda\\Lib\\site-packages\\pandas\\core\\internals\\construction.py:570\u001b[0m, in \u001b[0;36m_ensure_2d\u001b[1;34m(values)\u001b[0m\n\u001b[0;32m    568\u001b[0m     values \u001b[38;5;241m=\u001b[39m values\u001b[38;5;241m.\u001b[39mreshape((values\u001b[38;5;241m.\u001b[39mshape[\u001b[38;5;241m0\u001b[39m], \u001b[38;5;241m1\u001b[39m))\n\u001b[0;32m    569\u001b[0m \u001b[38;5;28;01melif\u001b[39;00m values\u001b[38;5;241m.\u001b[39mndim \u001b[38;5;241m!=\u001b[39m \u001b[38;5;241m2\u001b[39m:\n\u001b[1;32m--> 570\u001b[0m     \u001b[38;5;28;01mraise\u001b[39;00m \u001b[38;5;167;01mValueError\u001b[39;00m(\u001b[38;5;124mf\u001b[39m\u001b[38;5;124m\"\u001b[39m\u001b[38;5;124mMust pass 2-d input. shape=\u001b[39m\u001b[38;5;132;01m{\u001b[39;00mvalues\u001b[38;5;241m.\u001b[39mshape\u001b[38;5;132;01m}\u001b[39;00m\u001b[38;5;124m\"\u001b[39m)\n\u001b[0;32m    571\u001b[0m \u001b[38;5;28;01mreturn\u001b[39;00m values\n",
      "\u001b[1;31mValueError\u001b[0m: Must pass 2-d input. shape=(10, 8760, 1)"
     ]
    }
   ],
   "source": [
    "data=(WSprice[(yy*hours):(hours*yyend)][1]/1000)\n",
    "\n",
    "df = pd.DataFrame(data)\n",
    "\n",
    "# Number of values per new column\n",
    "values_per_column = 8760\n",
    "\n",
    "# Calculate the number of new columns needed\n",
    "num_new_columns = len(df) // values_per_column\n",
    "\n",
    "# Reshape the data using NumPy\n",
    "new_data = np.array_split(df, num_new_columns)\n",
    "\n",
    "# Create a new DataFrame with the reshaped data\n",
    "new_df = pd.DataFrame(new_data)\n",
    "\n",
    "# Transpose the new DataFrame to have values in separate columns\n",
    "new_df = new_df.T\n",
    "\n",
    "# Rename the columns if needed (optional)\n",
    "new_df.columns = [f'Column{i + 1}' for i in range(num_new_columns)]\n",
    "\n",
    "# Now, new_df contains the values split into multiple columns\n"
   ]
  },
  {
   "cell_type": "code",
   "execution_count": null,
   "id": "832b7f61-cd28-44a7-842b-be9f8f6fc544",
   "metadata": {},
   "outputs": [],
   "source": [
    "import pandas as pd\n",
    "import numpy as np\n",
    "\n",
    "# Sample 3D array with shape (15, 8760, 1)\n",
    "# data_3d = np.random.rand(15, 8760, 1)  # Replace this with your actual data\n",
    "\n",
    "# Reshape into a 2D array with shape (15, 8760)\n",
    "data_2d = new_data.reshape(15, -1)\n",
    "\n",
    "# Create a DataFrame\n",
    "df = pd.DataFrame(data_2d)\n",
    "\n",
    "# Optionally, you can set column names if needed\n",
    "column_names = [f'Column{i + 1}' for i in range(df.shape[1])]\n",
    "df.columns = column_names\n",
    "print(df.T)\n"
   ]
  },
  {
   "cell_type": "code",
   "execution_count": null,
   "id": "e5e1a830-d872-4959-b7ee-82315571d7ff",
   "metadata": {},
   "outputs": [],
   "source": [
    "# csv_file = 'output1.csv'\n",
    "\n",
    "# # Write the array into the CSV file\n",
    "# with open(csv_file, 'w', newline='') as file:\n",
    "#     writer = csv.writer(file)\n",
    "#     writer.writerows(a)\n",
    "\n",
    "# print(\"Array written to\", csv_file)"
   ]
  },
  {
   "cell_type": "code",
   "execution_count": null,
   "id": "d19cf96f-a022-4a75-ae2f-2a2bd9f61ae2",
   "metadata": {},
   "outputs": [],
   "source": [
    "def calculate_ret_fixed_cost(self): #retailer's total fixed costs per hour over 15 years\n",
    "        return (admin_ch)*(1+ret_margin_NE)\n",
    "      \n",
    "    def calculate_ret_fixed_cost_HH(self): #fixed costs per household: \n",
    "        return np.average(self.ret_fixed_cost/(households*5*8760)) #per hour charge\n"
   ]
  },
  {
   "cell_type": "code",
   "execution_count": null,
   "id": "e0e85bb2-7ac1-4ee5-91cb-0e06b2761407",
   "metadata": {},
   "outputs": [],
   "source": [
    "(admin_ch)*(1+ret_margin_NE)/(5*households.sum(axis=1))"
   ]
  },
  {
   "cell_type": "code",
   "execution_count": null,
   "id": "23ea2bef-7406-4474-9984-7db03d19b723",
   "metadata": {},
   "outputs": [],
   "source": [
    "np.average(WS_price)"
   ]
  },
  {
   "cell_type": "code",
   "execution_count": null,
   "id": "46cc9bf5-f0a8-4451-a15e-1d9dd7a3cc43",
   "metadata": {},
   "outputs": [],
   "source": [
    "(households*5*37714.60083216303).sum(axis=1)"
   ]
  },
  {
   "cell_type": "code",
   "execution_count": null,
   "id": "8175a5f7-dac5-4971-b851-a38b2a50e138",
   "metadata": {},
   "outputs": [],
   "source": [
    "self.energy_proc_cost)*(1+self.ret_margin_E+self.risk_margin)/(self.hourly_load.sum(axis=1))"
   ]
  },
  {
   "cell_type": "code",
   "execution_count": null,
   "id": "31f8e2ff-fe68-4c69-b98c-4f57b9f328c1",
   "metadata": {},
   "outputs": [],
   "source": [
    "Retaileractual.energy_proc_cost.sum()"
   ]
  },
  {
   "cell_type": "code",
   "execution_count": null,
   "id": "6fbcabee-dfbe-417c-a8b8-6d0e4f24911b",
   "metadata": {},
   "outputs": [],
   "source": [
    "Retaileractual.hourly_load.sum(axis=1).sum()"
   ]
  },
  {
   "cell_type": "code",
   "execution_count": null,
   "id": "6b1fd34e-ca17-4dca-87b7-0211a7488f5b",
   "metadata": {},
   "outputs": [],
   "source": []
  }
 ],
 "metadata": {
  "kernelspec": {
   "display_name": "base",
   "language": "python",
   "name": "python3"
  },
  "language_info": {
   "codemirror_mode": {
    "name": "ipython",
    "version": 3
   },
   "file_extension": ".py",
   "mimetype": "text/x-python",
   "name": "python",
   "nbconvert_exporter": "python",
   "pygments_lexer": "ipython3",
   "version": "3.11.5"
  }
 },
 "nbformat": 4,
 "nbformat_minor": 5
}
